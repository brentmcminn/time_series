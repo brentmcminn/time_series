{
 "cells": [
  {
   "cell_type": "code",
   "execution_count": 159,
   "metadata": {},
   "outputs": [],
   "source": [
    "import datetime as dt\n",
    "import pandas as pd\n",
    "import numpy as np\n",
    "import datetime as dt\n",
    "import matplotlib.pyplot as plt\n",
    "import quandl as ql\n",
    "import statsmodels.formula.api as smf\n",
    "pd.set_option('display.float_format', lambda x: '%.9f' % x)\n",
    "import warnings\n",
    "warnings.filterwarnings('ignore')\n",
    "%matplotlib inline\n",
    "import os\n",
    "ql.ApiConfig.api_key = os.getenv('quandl_key')\n",
    "import requests"
   ]
  },
  {
   "cell_type": "markdown",
   "metadata": {},
   "source": [
    " # Return Forecasting:  Read Historical Daily Yen Futures Data from Quandl\n",
    " In this activity, you will pull historical Dollar-Yen exchange rate futures data from Quandl and test whether there is any predictable behavior using time-series models.\n",
    "\n",
    " * First, you'll need to download the futures data using the Quandl API, and return it as a Pandas DataFrame.\n",
    " * You'll need a Quandl API key (free): https://www.quandl.com/\n",
    " * (Use code \"CHRIS/CME_JY1\")\n",
    " * Trim the resulting data to include only from the the year 1990 through today."
   ]
  },
  {
   "cell_type": "code",
   "execution_count": 160,
   "metadata": {},
   "outputs": [
    {
     "data": {
      "text/plain": [
       "str"
      ]
     },
     "execution_count": 160,
     "metadata": {},
     "output_type": "execute_result"
    }
   ],
   "source": [
    "api_key = os.getenv(\"QUANDL_API_KEY\")\n",
    "type(api_key)"
   ]
  },
  {
   "cell_type": "code",
   "execution_count": 161,
   "metadata": {},
   "outputs": [],
   "source": [
    "request_url = \"https://www.quandl.com/api/v3/datasets/CHRIS/CME_JY1.json?api_key=\"\n",
    "\n",
    "request_url_rfd = request_url + api_key"
   ]
  },
  {
   "cell_type": "code",
   "execution_count": 162,
   "metadata": {},
   "outputs": [],
   "source": [
    "response_data = requests.get(request_url_rfd).json()\n",
    "\n",
    "# response_data['dataset']['data']"
   ]
  },
  {
   "cell_type": "code",
   "execution_count": 163,
   "metadata": {},
   "outputs": [],
   "source": [
    "df = pd.DataFrame(response_data['dataset']['data'])\n",
    "# df.columns(columns=['date','open', 'high', 'low', 'last', 'change', 'settle', 'volume', 'Previous Day Open Interest'])\n",
    "\n"
   ]
  },
  {
   "cell_type": "code",
   "execution_count": 164,
   "metadata": {},
   "outputs": [
    {
     "data": {
      "text/html": [
       "<div>\n",
       "<style scoped>\n",
       "    .dataframe tbody tr th:only-of-type {\n",
       "        vertical-align: middle;\n",
       "    }\n",
       "\n",
       "    .dataframe tbody tr th {\n",
       "        vertical-align: top;\n",
       "    }\n",
       "\n",
       "    .dataframe thead th {\n",
       "        text-align: right;\n",
       "    }\n",
       "</style>\n",
       "<table border=\"1\" class=\"dataframe\">\n",
       "  <thead>\n",
       "    <tr style=\"text-align: right;\">\n",
       "      <th></th>\n",
       "      <th>0</th>\n",
       "      <th>1</th>\n",
       "      <th>2</th>\n",
       "      <th>3</th>\n",
       "      <th>4</th>\n",
       "      <th>5</th>\n",
       "      <th>6</th>\n",
       "      <th>7</th>\n",
       "      <th>8</th>\n",
       "    </tr>\n",
       "  </thead>\n",
       "  <tbody>\n",
       "    <tr>\n",
       "      <th>0</th>\n",
       "      <td>2019-10-09</td>\n",
       "      <td>9381.000000000</td>\n",
       "      <td>9391.500000000</td>\n",
       "      <td>9330.500000000</td>\n",
       "      <td>9343.500000000</td>\n",
       "      <td>38.500000000</td>\n",
       "      <td>9338.000000000</td>\n",
       "      <td>99153.000000000</td>\n",
       "      <td>145470.000000000</td>\n",
       "    </tr>\n",
       "    <tr>\n",
       "      <th>1</th>\n",
       "      <td>2019-10-08</td>\n",
       "      <td>9366.500000000</td>\n",
       "      <td>9403.500000000</td>\n",
       "      <td>9347.500000000</td>\n",
       "      <td>9378.500000000</td>\n",
       "      <td>16.000000000</td>\n",
       "      <td>9376.500000000</td>\n",
       "      <td>134774.000000000</td>\n",
       "      <td>144640.000000000</td>\n",
       "    </tr>\n",
       "    <tr>\n",
       "      <th>2</th>\n",
       "      <td>2019-10-07</td>\n",
       "      <td>9417.000000000</td>\n",
       "      <td>9417.500000000</td>\n",
       "      <td>9345.000000000</td>\n",
       "      <td>9364.500000000</td>\n",
       "      <td>39.000000000</td>\n",
       "      <td>9360.500000000</td>\n",
       "      <td>96834.000000000</td>\n",
       "      <td>145171.000000000</td>\n",
       "    </tr>\n",
       "    <tr>\n",
       "      <th>3</th>\n",
       "      <td>2019-10-04</td>\n",
       "      <td>9398.500000000</td>\n",
       "      <td>9446.500000000</td>\n",
       "      <td>9376.500000000</td>\n",
       "      <td>9394.500000000</td>\n",
       "      <td>2.000000000</td>\n",
       "      <td>9399.500000000</td>\n",
       "      <td>121572.000000000</td>\n",
       "      <td>140800.000000000</td>\n",
       "    </tr>\n",
       "    <tr>\n",
       "      <th>4</th>\n",
       "      <td>2019-10-03</td>\n",
       "      <td>9377.000000000</td>\n",
       "      <td>9434.000000000</td>\n",
       "      <td>9362.500000000</td>\n",
       "      <td>9396.000000000</td>\n",
       "      <td>24.000000000</td>\n",
       "      <td>9397.500000000</td>\n",
       "      <td>160927.000000000</td>\n",
       "      <td>141349.000000000</td>\n",
       "    </tr>\n",
       "  </tbody>\n",
       "</table>\n",
       "</div>"
      ],
      "text/plain": [
       "            0              1              2              3              4  \\\n",
       "0  2019-10-09 9381.000000000 9391.500000000 9330.500000000 9343.500000000   \n",
       "1  2019-10-08 9366.500000000 9403.500000000 9347.500000000 9378.500000000   \n",
       "2  2019-10-07 9417.000000000 9417.500000000 9345.000000000 9364.500000000   \n",
       "3  2019-10-04 9398.500000000 9446.500000000 9376.500000000 9394.500000000   \n",
       "4  2019-10-03 9377.000000000 9434.000000000 9362.500000000 9396.000000000   \n",
       "\n",
       "             5              6                7                8  \n",
       "0 38.500000000 9338.000000000  99153.000000000 145470.000000000  \n",
       "1 16.000000000 9376.500000000 134774.000000000 144640.000000000  \n",
       "2 39.000000000 9360.500000000  96834.000000000 145171.000000000  \n",
       "3  2.000000000 9399.500000000 121572.000000000 140800.000000000  \n",
       "4 24.000000000 9397.500000000 160927.000000000 141349.000000000  "
      ]
     },
     "execution_count": 164,
     "metadata": {},
     "output_type": "execute_result"
    }
   ],
   "source": [
    "df.head(5)"
   ]
  },
  {
   "cell_type": "code",
   "execution_count": 165,
   "metadata": {},
   "outputs": [
    {
     "data": {
      "text/plain": [
       "Index(['Date', 'Open', 'High', 'Low', 'Last', 'Change', 'Settle', 'Volume',\n",
       "       'Previous Day Open Interest'],\n",
       "      dtype='object')"
      ]
     },
     "execution_count": 165,
     "metadata": {},
     "output_type": "execute_result"
    }
   ],
   "source": [
    "df.columns = ['Date','Open','High','Low','Last','Change','Settle', 'Volume', 'Previous Day Open Interest']\n",
    "df.columns"
   ]
  },
  {
   "cell_type": "code",
   "execution_count": 166,
   "metadata": {},
   "outputs": [
    {
     "data": {
      "text/html": [
       "<div>\n",
       "<style scoped>\n",
       "    .dataframe tbody tr th:only-of-type {\n",
       "        vertical-align: middle;\n",
       "    }\n",
       "\n",
       "    .dataframe tbody tr th {\n",
       "        vertical-align: top;\n",
       "    }\n",
       "\n",
       "    .dataframe thead th {\n",
       "        text-align: right;\n",
       "    }\n",
       "</style>\n",
       "<table border=\"1\" class=\"dataframe\">\n",
       "  <thead>\n",
       "    <tr style=\"text-align: right;\">\n",
       "      <th></th>\n",
       "      <th>Open</th>\n",
       "      <th>High</th>\n",
       "      <th>Low</th>\n",
       "      <th>Last</th>\n",
       "      <th>Change</th>\n",
       "      <th>Settle</th>\n",
       "      <th>Volume</th>\n",
       "      <th>Previous Day Open Interest</th>\n",
       "    </tr>\n",
       "    <tr>\n",
       "      <th>Date</th>\n",
       "      <th></th>\n",
       "      <th></th>\n",
       "      <th></th>\n",
       "      <th></th>\n",
       "      <th></th>\n",
       "      <th></th>\n",
       "      <th></th>\n",
       "      <th></th>\n",
       "    </tr>\n",
       "  </thead>\n",
       "  <tbody>\n",
       "    <tr>\n",
       "      <th>2019-10-09</th>\n",
       "      <td>9381.000000000</td>\n",
       "      <td>9391.500000000</td>\n",
       "      <td>9330.500000000</td>\n",
       "      <td>9343.500000000</td>\n",
       "      <td>38.500000000</td>\n",
       "      <td>9338.000000000</td>\n",
       "      <td>99153.000000000</td>\n",
       "      <td>145470.000000000</td>\n",
       "    </tr>\n",
       "    <tr>\n",
       "      <th>2019-10-08</th>\n",
       "      <td>9366.500000000</td>\n",
       "      <td>9403.500000000</td>\n",
       "      <td>9347.500000000</td>\n",
       "      <td>9378.500000000</td>\n",
       "      <td>16.000000000</td>\n",
       "      <td>9376.500000000</td>\n",
       "      <td>134774.000000000</td>\n",
       "      <td>144640.000000000</td>\n",
       "    </tr>\n",
       "    <tr>\n",
       "      <th>2019-10-07</th>\n",
       "      <td>9417.000000000</td>\n",
       "      <td>9417.500000000</td>\n",
       "      <td>9345.000000000</td>\n",
       "      <td>9364.500000000</td>\n",
       "      <td>39.000000000</td>\n",
       "      <td>9360.500000000</td>\n",
       "      <td>96834.000000000</td>\n",
       "      <td>145171.000000000</td>\n",
       "    </tr>\n",
       "    <tr>\n",
       "      <th>2019-10-04</th>\n",
       "      <td>9398.500000000</td>\n",
       "      <td>9446.500000000</td>\n",
       "      <td>9376.500000000</td>\n",
       "      <td>9394.500000000</td>\n",
       "      <td>2.000000000</td>\n",
       "      <td>9399.500000000</td>\n",
       "      <td>121572.000000000</td>\n",
       "      <td>140800.000000000</td>\n",
       "    </tr>\n",
       "    <tr>\n",
       "      <th>2019-10-03</th>\n",
       "      <td>9377.000000000</td>\n",
       "      <td>9434.000000000</td>\n",
       "      <td>9362.500000000</td>\n",
       "      <td>9396.000000000</td>\n",
       "      <td>24.000000000</td>\n",
       "      <td>9397.500000000</td>\n",
       "      <td>160927.000000000</td>\n",
       "      <td>141349.000000000</td>\n",
       "    </tr>\n",
       "  </tbody>\n",
       "</table>\n",
       "</div>"
      ],
      "text/plain": [
       "                     Open           High            Low           Last  \\\n",
       "Date                                                                     \n",
       "2019-10-09 9381.000000000 9391.500000000 9330.500000000 9343.500000000   \n",
       "2019-10-08 9366.500000000 9403.500000000 9347.500000000 9378.500000000   \n",
       "2019-10-07 9417.000000000 9417.500000000 9345.000000000 9364.500000000   \n",
       "2019-10-04 9398.500000000 9446.500000000 9376.500000000 9394.500000000   \n",
       "2019-10-03 9377.000000000 9434.000000000 9362.500000000 9396.000000000   \n",
       "\n",
       "                 Change         Settle           Volume  \\\n",
       "Date                                                      \n",
       "2019-10-09 38.500000000 9338.000000000  99153.000000000   \n",
       "2019-10-08 16.000000000 9376.500000000 134774.000000000   \n",
       "2019-10-07 39.000000000 9360.500000000  96834.000000000   \n",
       "2019-10-04  2.000000000 9399.500000000 121572.000000000   \n",
       "2019-10-03 24.000000000 9397.500000000 160927.000000000   \n",
       "\n",
       "            Previous Day Open Interest  \n",
       "Date                                    \n",
       "2019-10-09            145470.000000000  \n",
       "2019-10-08            144640.000000000  \n",
       "2019-10-07            145171.000000000  \n",
       "2019-10-04            140800.000000000  \n",
       "2019-10-03            141349.000000000  "
      ]
     },
     "execution_count": 166,
     "metadata": {},
     "output_type": "execute_result"
    }
   ],
   "source": [
    "df['Date']= pd.to_datetime(df['Date'])\n",
    "\n",
    "df1 = df.set_index('Date')\n",
    "\n",
    "df1.head()"
   ]
  },
  {
   "cell_type": "code",
   "execution_count": 167,
   "metadata": {},
   "outputs": [],
   "source": [
    "df2 = df1.sort_index(ascending=True)\n",
    "\n"
   ]
  },
  {
   "cell_type": "code",
   "execution_count": 168,
   "metadata": {},
   "outputs": [
    {
     "data": {
      "text/html": [
       "<div>\n",
       "<style scoped>\n",
       "    .dataframe tbody tr th:only-of-type {\n",
       "        vertical-align: middle;\n",
       "    }\n",
       "\n",
       "    .dataframe tbody tr th {\n",
       "        vertical-align: top;\n",
       "    }\n",
       "\n",
       "    .dataframe thead th {\n",
       "        text-align: right;\n",
       "    }\n",
       "</style>\n",
       "<table border=\"1\" class=\"dataframe\">\n",
       "  <thead>\n",
       "    <tr style=\"text-align: right;\">\n",
       "      <th></th>\n",
       "      <th>Open</th>\n",
       "      <th>High</th>\n",
       "      <th>Low</th>\n",
       "      <th>Last</th>\n",
       "      <th>Change</th>\n",
       "      <th>Settle</th>\n",
       "      <th>Volume</th>\n",
       "      <th>Previous Day Open Interest</th>\n",
       "    </tr>\n",
       "    <tr>\n",
       "      <th>Date</th>\n",
       "      <th></th>\n",
       "      <th></th>\n",
       "      <th></th>\n",
       "      <th></th>\n",
       "      <th></th>\n",
       "      <th></th>\n",
       "      <th></th>\n",
       "      <th></th>\n",
       "    </tr>\n",
       "  </thead>\n",
       "  <tbody>\n",
       "    <tr>\n",
       "      <th>1976-08-02</th>\n",
       "      <td>3398.000000000</td>\n",
       "      <td>3401.000000000</td>\n",
       "      <td>3398.000000000</td>\n",
       "      <td>3401.000000000</td>\n",
       "      <td>nan</td>\n",
       "      <td>3401.000000000</td>\n",
       "      <td>2.000000000</td>\n",
       "      <td>1.000000000</td>\n",
       "    </tr>\n",
       "    <tr>\n",
       "      <th>1976-08-03</th>\n",
       "      <td>3401.000000000</td>\n",
       "      <td>3401.000000000</td>\n",
       "      <td>3401.000000000</td>\n",
       "      <td>3401.000000000</td>\n",
       "      <td>nan</td>\n",
       "      <td>3401.000000000</td>\n",
       "      <td>0.000000000</td>\n",
       "      <td>1.000000000</td>\n",
       "    </tr>\n",
       "    <tr>\n",
       "      <th>1976-08-04</th>\n",
       "      <td>3401.000000000</td>\n",
       "      <td>3401.000000000</td>\n",
       "      <td>3401.000000000</td>\n",
       "      <td>3401.000000000</td>\n",
       "      <td>nan</td>\n",
       "      <td>3401.000000000</td>\n",
       "      <td>0.000000000</td>\n",
       "      <td>1.000000000</td>\n",
       "    </tr>\n",
       "    <tr>\n",
       "      <th>1976-08-05</th>\n",
       "      <td>3401.000000000</td>\n",
       "      <td>3401.000000000</td>\n",
       "      <td>3401.000000000</td>\n",
       "      <td>3401.000000000</td>\n",
       "      <td>nan</td>\n",
       "      <td>3401.000000000</td>\n",
       "      <td>0.000000000</td>\n",
       "      <td>1.000000000</td>\n",
       "    </tr>\n",
       "    <tr>\n",
       "      <th>1976-08-06</th>\n",
       "      <td>3401.000000000</td>\n",
       "      <td>3401.000000000</td>\n",
       "      <td>3401.000000000</td>\n",
       "      <td>3401.000000000</td>\n",
       "      <td>nan</td>\n",
       "      <td>3401.000000000</td>\n",
       "      <td>0.000000000</td>\n",
       "      <td>1.000000000</td>\n",
       "    </tr>\n",
       "  </tbody>\n",
       "</table>\n",
       "</div>"
      ],
      "text/plain": [
       "                     Open           High            Low           Last  \\\n",
       "Date                                                                     \n",
       "1976-08-02 3398.000000000 3401.000000000 3398.000000000 3401.000000000   \n",
       "1976-08-03 3401.000000000 3401.000000000 3401.000000000 3401.000000000   \n",
       "1976-08-04 3401.000000000 3401.000000000 3401.000000000 3401.000000000   \n",
       "1976-08-05 3401.000000000 3401.000000000 3401.000000000 3401.000000000   \n",
       "1976-08-06 3401.000000000 3401.000000000 3401.000000000 3401.000000000   \n",
       "\n",
       "            Change         Settle      Volume  Previous Day Open Interest  \n",
       "Date                                                                       \n",
       "1976-08-02     nan 3401.000000000 2.000000000                 1.000000000  \n",
       "1976-08-03     nan 3401.000000000 0.000000000                 1.000000000  \n",
       "1976-08-04     nan 3401.000000000 0.000000000                 1.000000000  \n",
       "1976-08-05     nan 3401.000000000 0.000000000                 1.000000000  \n",
       "1976-08-06     nan 3401.000000000 0.000000000                 1.000000000  "
      ]
     },
     "execution_count": 168,
     "metadata": {},
     "output_type": "execute_result"
    }
   ],
   "source": [
    "df2.head(5)"
   ]
  },
  {
   "cell_type": "code",
   "execution_count": null,
   "metadata": {},
   "outputs": [],
   "source": []
  },
  {
   "cell_type": "code",
   "execution_count": null,
   "metadata": {},
   "outputs": [],
   "source": []
  },
  {
   "cell_type": "code",
   "execution_count": 169,
   "metadata": {},
   "outputs": [
    {
     "data": {
      "text/html": [
       "<div>\n",
       "<style scoped>\n",
       "    .dataframe tbody tr th:only-of-type {\n",
       "        vertical-align: middle;\n",
       "    }\n",
       "\n",
       "    .dataframe tbody tr th {\n",
       "        vertical-align: top;\n",
       "    }\n",
       "\n",
       "    .dataframe thead th {\n",
       "        text-align: right;\n",
       "    }\n",
       "</style>\n",
       "<table border=\"1\" class=\"dataframe\">\n",
       "  <thead>\n",
       "    <tr style=\"text-align: right;\">\n",
       "      <th></th>\n",
       "      <th>Open</th>\n",
       "      <th>High</th>\n",
       "      <th>Low</th>\n",
       "      <th>Last</th>\n",
       "      <th>Change</th>\n",
       "      <th>Settle</th>\n",
       "      <th>Volume</th>\n",
       "      <th>Previous Day Open Interest</th>\n",
       "    </tr>\n",
       "    <tr>\n",
       "      <th>Date</th>\n",
       "      <th></th>\n",
       "      <th></th>\n",
       "      <th></th>\n",
       "      <th></th>\n",
       "      <th></th>\n",
       "      <th></th>\n",
       "      <th></th>\n",
       "      <th></th>\n",
       "    </tr>\n",
       "  </thead>\n",
       "  <tbody>\n",
       "    <tr>\n",
       "      <th>1976-08-02</th>\n",
       "      <td>3398.000000000</td>\n",
       "      <td>3401.000000000</td>\n",
       "      <td>3398.000000000</td>\n",
       "      <td>3401.000000000</td>\n",
       "      <td>nan</td>\n",
       "      <td>3401.000000000</td>\n",
       "      <td>2.000000000</td>\n",
       "      <td>1.000000000</td>\n",
       "    </tr>\n",
       "    <tr>\n",
       "      <th>1976-08-03</th>\n",
       "      <td>3401.000000000</td>\n",
       "      <td>3401.000000000</td>\n",
       "      <td>3401.000000000</td>\n",
       "      <td>3401.000000000</td>\n",
       "      <td>nan</td>\n",
       "      <td>3401.000000000</td>\n",
       "      <td>0.000000000</td>\n",
       "      <td>1.000000000</td>\n",
       "    </tr>\n",
       "    <tr>\n",
       "      <th>1976-08-04</th>\n",
       "      <td>3401.000000000</td>\n",
       "      <td>3401.000000000</td>\n",
       "      <td>3401.000000000</td>\n",
       "      <td>3401.000000000</td>\n",
       "      <td>nan</td>\n",
       "      <td>3401.000000000</td>\n",
       "      <td>0.000000000</td>\n",
       "      <td>1.000000000</td>\n",
       "    </tr>\n",
       "    <tr>\n",
       "      <th>1976-08-05</th>\n",
       "      <td>3401.000000000</td>\n",
       "      <td>3401.000000000</td>\n",
       "      <td>3401.000000000</td>\n",
       "      <td>3401.000000000</td>\n",
       "      <td>nan</td>\n",
       "      <td>3401.000000000</td>\n",
       "      <td>0.000000000</td>\n",
       "      <td>1.000000000</td>\n",
       "    </tr>\n",
       "    <tr>\n",
       "      <th>1976-08-06</th>\n",
       "      <td>3401.000000000</td>\n",
       "      <td>3401.000000000</td>\n",
       "      <td>3401.000000000</td>\n",
       "      <td>3401.000000000</td>\n",
       "      <td>nan</td>\n",
       "      <td>3401.000000000</td>\n",
       "      <td>0.000000000</td>\n",
       "      <td>1.000000000</td>\n",
       "    </tr>\n",
       "  </tbody>\n",
       "</table>\n",
       "</div>"
      ],
      "text/plain": [
       "                     Open           High            Low           Last  \\\n",
       "Date                                                                     \n",
       "1976-08-02 3398.000000000 3401.000000000 3398.000000000 3401.000000000   \n",
       "1976-08-03 3401.000000000 3401.000000000 3401.000000000 3401.000000000   \n",
       "1976-08-04 3401.000000000 3401.000000000 3401.000000000 3401.000000000   \n",
       "1976-08-05 3401.000000000 3401.000000000 3401.000000000 3401.000000000   \n",
       "1976-08-06 3401.000000000 3401.000000000 3401.000000000 3401.000000000   \n",
       "\n",
       "            Change         Settle      Volume  Previous Day Open Interest  \n",
       "Date                                                                       \n",
       "1976-08-02     nan 3401.000000000 2.000000000                 1.000000000  \n",
       "1976-08-03     nan 3401.000000000 0.000000000                 1.000000000  \n",
       "1976-08-04     nan 3401.000000000 0.000000000                 1.000000000  \n",
       "1976-08-05     nan 3401.000000000 0.000000000                 1.000000000  \n",
       "1976-08-06     nan 3401.000000000 0.000000000                 1.000000000  "
      ]
     },
     "execution_count": 169,
     "metadata": {},
     "output_type": "execute_result"
    }
   ],
   "source": [
    "# Futures contract on the Yen-dollar exchange rate:\n",
    "# This is the continuous chain of the futures contracts that are 1 month to expiration\n",
    "fut = df2 \n",
    "fut.head()"
   ]
  },
  {
   "cell_type": "code",
   "execution_count": 170,
   "metadata": {},
   "outputs": [
    {
     "data": {
      "text/html": [
       "<div>\n",
       "<style scoped>\n",
       "    .dataframe tbody tr th:only-of-type {\n",
       "        vertical-align: middle;\n",
       "    }\n",
       "\n",
       "    .dataframe tbody tr th {\n",
       "        vertical-align: top;\n",
       "    }\n",
       "\n",
       "    .dataframe thead th {\n",
       "        text-align: right;\n",
       "    }\n",
       "</style>\n",
       "<table border=\"1\" class=\"dataframe\">\n",
       "  <thead>\n",
       "    <tr style=\"text-align: right;\">\n",
       "      <th></th>\n",
       "      <th>Open</th>\n",
       "      <th>High</th>\n",
       "      <th>Low</th>\n",
       "      <th>Last</th>\n",
       "      <th>Change</th>\n",
       "      <th>Settle</th>\n",
       "      <th>Volume</th>\n",
       "      <th>Previous Day Open Interest</th>\n",
       "    </tr>\n",
       "    <tr>\n",
       "      <th>Date</th>\n",
       "      <th></th>\n",
       "      <th></th>\n",
       "      <th></th>\n",
       "      <th></th>\n",
       "      <th></th>\n",
       "      <th></th>\n",
       "      <th></th>\n",
       "      <th></th>\n",
       "    </tr>\n",
       "  </thead>\n",
       "  <tbody>\n",
       "    <tr>\n",
       "      <th>1990-01-02</th>\n",
       "      <td>6954.000000000</td>\n",
       "      <td>6954.000000000</td>\n",
       "      <td>6835.000000000</td>\n",
       "      <td>6847.000000000</td>\n",
       "      <td>nan</td>\n",
       "      <td>6847.000000000</td>\n",
       "      <td>48336.000000000</td>\n",
       "      <td>51473.000000000</td>\n",
       "    </tr>\n",
       "    <tr>\n",
       "      <th>1990-01-03</th>\n",
       "      <td>6877.000000000</td>\n",
       "      <td>6910.000000000</td>\n",
       "      <td>6865.000000000</td>\n",
       "      <td>6887.000000000</td>\n",
       "      <td>nan</td>\n",
       "      <td>6887.000000000</td>\n",
       "      <td>38206.000000000</td>\n",
       "      <td>53860.000000000</td>\n",
       "    </tr>\n",
       "    <tr>\n",
       "      <th>1990-01-04</th>\n",
       "      <td>6937.000000000</td>\n",
       "      <td>7030.000000000</td>\n",
       "      <td>6924.000000000</td>\n",
       "      <td>7008.000000000</td>\n",
       "      <td>nan</td>\n",
       "      <td>7008.000000000</td>\n",
       "      <td>49649.000000000</td>\n",
       "      <td>55699.000000000</td>\n",
       "    </tr>\n",
       "    <tr>\n",
       "      <th>1990-01-05</th>\n",
       "      <td>6952.000000000</td>\n",
       "      <td>6985.000000000</td>\n",
       "      <td>6942.000000000</td>\n",
       "      <td>6950.000000000</td>\n",
       "      <td>nan</td>\n",
       "      <td>6950.000000000</td>\n",
       "      <td>29944.000000000</td>\n",
       "      <td>53111.000000000</td>\n",
       "    </tr>\n",
       "    <tr>\n",
       "      <th>1990-01-08</th>\n",
       "      <td>6936.000000000</td>\n",
       "      <td>6972.000000000</td>\n",
       "      <td>6936.000000000</td>\n",
       "      <td>6959.000000000</td>\n",
       "      <td>nan</td>\n",
       "      <td>6959.000000000</td>\n",
       "      <td>19763.000000000</td>\n",
       "      <td>52072.000000000</td>\n",
       "    </tr>\n",
       "  </tbody>\n",
       "</table>\n",
       "</div>"
      ],
      "text/plain": [
       "                     Open           High            Low           Last  \\\n",
       "Date                                                                     \n",
       "1990-01-02 6954.000000000 6954.000000000 6835.000000000 6847.000000000   \n",
       "1990-01-03 6877.000000000 6910.000000000 6865.000000000 6887.000000000   \n",
       "1990-01-04 6937.000000000 7030.000000000 6924.000000000 7008.000000000   \n",
       "1990-01-05 6952.000000000 6985.000000000 6942.000000000 6950.000000000   \n",
       "1990-01-08 6936.000000000 6972.000000000 6936.000000000 6959.000000000   \n",
       "\n",
       "            Change         Settle          Volume  Previous Day Open Interest  \n",
       "Date                                                                           \n",
       "1990-01-02     nan 6847.000000000 48336.000000000             51473.000000000  \n",
       "1990-01-03     nan 6887.000000000 38206.000000000             53860.000000000  \n",
       "1990-01-04     nan 7008.000000000 49649.000000000             55699.000000000  \n",
       "1990-01-05     nan 6950.000000000 29944.000000000             53111.000000000  \n",
       "1990-01-08     nan 6959.000000000 19763.000000000             52072.000000000  "
      ]
     },
     "execution_count": 170,
     "metadata": {},
     "output_type": "execute_result"
    }
   ],
   "source": [
    "# Trim the dataset to begin on January 1st, 1990\n",
    "fut =  fut.loc['1990-01-01':] \n",
    "fut.head()"
   ]
  },
  {
   "cell_type": "markdown",
   "metadata": {},
   "source": [
    " # Return Forecasting: Initial Time-Series Plotting"
   ]
  },
  {
   "cell_type": "markdown",
   "metadata": {},
   "source": [
    " Start by plotting the \"Settle\" price. Do you see any patterns, long-term and/or short?"
   ]
  },
  {
   "cell_type": "code",
   "execution_count": 171,
   "metadata": {},
   "outputs": [
    {
     "data": {
      "text/plain": [
       "<matplotlib.axes._subplots.AxesSubplot at 0x23515f2b668>"
      ]
     },
     "execution_count": 171,
     "metadata": {},
     "output_type": "execute_result"
    },
    {
     "data": {
      "image/png": "[encoded data removed]",
      "text/plain": [
       "<Figure size 432x288 with 1 Axes>"
      ]
     },
     "metadata": {
      "needs_background": "light"
     },
     "output_type": "display_data"
    }
   ],
   "source": [
    "# Plot just the \"Settle\" column from the dataframe:\n",
    "fut['Settle'].plot(kind='line') "
   ]
  },
  {
   "cell_type": "markdown",
   "metadata": {},
   "source": [
    " # Return Forecasting: MA/EWMA Smoothing of Futures Prices"
   ]
  },
  {
   "cell_type": "markdown",
   "metadata": {},
   "source": [
    " 1. Plot the Settle Price, along with a moving average of 15 and 60 days. Use indexing to just plot the data from 2015 onward.\n",
    " 2. What do you see now, in terms of short versus long-term trends?\n",
    " 3. Try an exponential moving average, with a half life of 15 days.\n",
    " 4. Which seems to respond faster, an exponential moving average with a half life of 15 days, or a moving average of 15 days?\n",
    "\n",
    " (15 days = 3 weeks)\n",
    " (60 days = 3 months)"
   ]
  },
  {
   "cell_type": "code",
   "execution_count": 172,
   "metadata": {},
   "outputs": [],
   "source": [
    "# yearly_average = df2.resample('A')\n",
    "# .index.year\n",
    "# .index.month\n",
    "# .index.weekofyear"
   ]
  },
  {
   "cell_type": "code",
   "execution_count": 173,
   "metadata": {},
   "outputs": [
    {
     "data": {
      "text/plain": [
       "<matplotlib.axes._subplots.AxesSubplot at 0x2351ba5a5c0>"
      ]
     },
     "execution_count": 173,
     "metadata": {},
     "output_type": "execute_result"
    },
    {
     "data": {
      "image/png": "[encoded data removed]",
      "text/plain": [
       "<Figure size 1008x360 with 1 Axes>"
      ]
     },
     "metadata": {
      "needs_background": "light"
     },
     "output_type": "display_data"
    }
   ],
   "source": [
    "###### Moving averages and exponentially weighted moving averages \n",
    "# Create a dataframe using just the \"Settle\" price\n",
    "df=fut[[\"Settle\"]].copy()\n",
    "\n",
    "# Add in columns for moving average windows of 15 and 60 days, and a column for an EWMA window of 15 days\n",
    "df['Rolling-15d'] = df.Settle.rolling(window=15).mean()\n",
    "df['Rolling-60d'] = df.Settle.rolling(window=60).mean()\n",
    "df['EWMA 15-d'] = df.Settle.ewm(halflife=15).mean()\n",
    "# Plot the settle price and moving average/ewma columns all in one plot from 2015:\n",
    "\n",
    "\n",
    "\n",
    "\n",
    "\n",
    "df[\"2015\":].plot(figsize=(14,5))\n"
   ]
  },
  {
   "cell_type": "code",
   "execution_count": 174,
   "metadata": {},
   "outputs": [
    {
     "data": {
      "text/plain": [
       "<matplotlib.axes._subplots.AxesSubplot at 0x23515761c88>"
      ]
     },
     "execution_count": 174,
     "metadata": {},
     "output_type": "execute_result"
    },
    {
     "data": {
      "image/png": "[encoded data removed]",
      "text/plain": [
       "<Figure size 432x288 with 1 Axes>"
      ]
     },
     "metadata": {
      "needs_background": "light"
     },
     "output_type": "display_data"
    }
   ],
   "source": [
    "df = df['2015-01-01':]\n",
    "df.plot()"
   ]
  },
  {
   "cell_type": "markdown",
   "metadata": {},
   "source": [
    "# Return Forecasting: Decomposition Using a Hodrick-Prescott Filter"
   ]
  },
  {
   "cell_type": "markdown",
   "metadata": {},
   "source": [
    " Using a Hodrick-Prescott Filter, decompose the Settle price into a trend and noise."
   ]
  },
  {
   "cell_type": "code",
   "execution_count": 175,
   "metadata": {},
   "outputs": [],
   "source": [
    "import statsmodels.api as sm"
   ]
  },
  {
   "cell_type": "code",
   "execution_count": 176,
   "metadata": {},
   "outputs": [],
   "source": [
    "# fut.head()"
   ]
  },
  {
   "cell_type": "code",
   "execution_count": null,
   "metadata": {},
   "outputs": [],
   "source": []
  },
  {
   "cell_type": "code",
   "execution_count": 177,
   "metadata": {},
   "outputs": [
    {
     "data": {
      "text/plain": [
       "<matplotlib.axes._subplots.AxesSubplot at 0x23516258550>"
      ]
     },
     "execution_count": 177,
     "metadata": {},
     "output_type": "execute_result"
    },
    {
     "data": {
      "image/png": "[encoded data removed]",
      "text/plain": [
       "<Figure size 432x288 with 1 Axes>"
      ]
     },
     "metadata": {
      "needs_background": "light"
     },
     "output_type": "display_data"
    }
   ],
   "source": [
    "\n",
    "# Apply the Hodrick-Prescott Filter by decomposing the \"Settle\" price into two separate series:\n",
    "ts_noise, ts_trend =  sm.tsa.filters.hpfilter(fut['Settle'])\n",
    "\n",
    "# Create a dataframe of just the settle price, and add in the \"noise\" and \"trend\" series from above:\n",
    "futures_decomp =  pd.DataFrame(fut['Settle'])\n",
    "futures_decomp[\"noise\"] = ts_noise \n",
    "futures_decomp[\"trend\"] = ts_trend \n",
    "futures_decomp\n",
    "\n",
    "# Plot the \"Settle\" and \"Trend\" price \n",
    "futures_decomp['Settle'].plot(title='Overlay of Settle and Trend using Hodrick Prescott')\n",
    "futures_decomp['trend'].plot()\n",
    "\n",
    "# # Then plot the \"noise\" separately\n",
    "# futures_decomp['noise'].plot()"
   ]
  },
  {
   "cell_type": "code",
   "execution_count": 178,
   "metadata": {},
   "outputs": [
    {
     "data": {
      "text/plain": [
       "<matplotlib.axes._subplots.AxesSubplot at 0x23515ef8d30>"
      ]
     },
     "execution_count": 178,
     "metadata": {},
     "output_type": "execute_result"
    },
    {
     "data": {
      "image/png": "[encoded data removed]",
      "text/plain": [
       "<Figure size 432x288 with 1 Axes>"
      ]
     },
     "metadata": {
      "needs_background": "light"
     },
     "output_type": "display_data"
    }
   ],
   "source": [
    "# Then plot the \"noise\" separately\n",
    "futures_decomp['noise'].plot(title = 'Noise from Hodrick Prescott Filter')"
   ]
  },
  {
   "cell_type": "markdown",
   "metadata": {},
   "source": [
    " # Return Forecasting: Seasonal Effects with Sklearn Linear Regression\n",
    " Using the full dataset, use a SKLearn linear regression to predict Yen futures (\"settle\") returns with *lagged* Yen futures returns and categorical calendar seasonal effects (e.g., day-of-week or week-of-year seasonal effects).\n"
   ]
  },
  {
   "cell_type": "code",
   "execution_count": 179,
   "metadata": {},
   "outputs": [
    {
     "data": {
      "text/html": [
       "<div>\n",
       "<style scoped>\n",
       "    .dataframe tbody tr th:only-of-type {\n",
       "        vertical-align: middle;\n",
       "    }\n",
       "\n",
       "    .dataframe tbody tr th {\n",
       "        vertical-align: top;\n",
       "    }\n",
       "\n",
       "    .dataframe thead th {\n",
       "        text-align: right;\n",
       "    }\n",
       "</style>\n",
       "<table border=\"1\" class=\"dataframe\">\n",
       "  <thead>\n",
       "    <tr style=\"text-align: right;\">\n",
       "      <th></th>\n",
       "      <th>Open</th>\n",
       "      <th>High</th>\n",
       "      <th>Low</th>\n",
       "      <th>Last</th>\n",
       "      <th>Change</th>\n",
       "      <th>Settle</th>\n",
       "      <th>Volume</th>\n",
       "      <th>Previous Day Open Interest</th>\n",
       "    </tr>\n",
       "    <tr>\n",
       "      <th>Date</th>\n",
       "      <th></th>\n",
       "      <th></th>\n",
       "      <th></th>\n",
       "      <th></th>\n",
       "      <th></th>\n",
       "      <th></th>\n",
       "      <th></th>\n",
       "      <th></th>\n",
       "    </tr>\n",
       "  </thead>\n",
       "  <tbody>\n",
       "    <tr>\n",
       "      <th>1990-01-02</th>\n",
       "      <td>6954.000000000</td>\n",
       "      <td>6954.000000000</td>\n",
       "      <td>6835.000000000</td>\n",
       "      <td>6847.000000000</td>\n",
       "      <td>nan</td>\n",
       "      <td>6847.000000000</td>\n",
       "      <td>48336.000000000</td>\n",
       "      <td>51473.000000000</td>\n",
       "    </tr>\n",
       "    <tr>\n",
       "      <th>1990-01-03</th>\n",
       "      <td>6877.000000000</td>\n",
       "      <td>6910.000000000</td>\n",
       "      <td>6865.000000000</td>\n",
       "      <td>6887.000000000</td>\n",
       "      <td>nan</td>\n",
       "      <td>6887.000000000</td>\n",
       "      <td>38206.000000000</td>\n",
       "      <td>53860.000000000</td>\n",
       "    </tr>\n",
       "    <tr>\n",
       "      <th>1990-01-04</th>\n",
       "      <td>6937.000000000</td>\n",
       "      <td>7030.000000000</td>\n",
       "      <td>6924.000000000</td>\n",
       "      <td>7008.000000000</td>\n",
       "      <td>nan</td>\n",
       "      <td>7008.000000000</td>\n",
       "      <td>49649.000000000</td>\n",
       "      <td>55699.000000000</td>\n",
       "    </tr>\n",
       "    <tr>\n",
       "      <th>1990-01-05</th>\n",
       "      <td>6952.000000000</td>\n",
       "      <td>6985.000000000</td>\n",
       "      <td>6942.000000000</td>\n",
       "      <td>6950.000000000</td>\n",
       "      <td>nan</td>\n",
       "      <td>6950.000000000</td>\n",
       "      <td>29944.000000000</td>\n",
       "      <td>53111.000000000</td>\n",
       "    </tr>\n",
       "    <tr>\n",
       "      <th>1990-01-08</th>\n",
       "      <td>6936.000000000</td>\n",
       "      <td>6972.000000000</td>\n",
       "      <td>6936.000000000</td>\n",
       "      <td>6959.000000000</td>\n",
       "      <td>nan</td>\n",
       "      <td>6959.000000000</td>\n",
       "      <td>19763.000000000</td>\n",
       "      <td>52072.000000000</td>\n",
       "    </tr>\n",
       "  </tbody>\n",
       "</table>\n",
       "</div>"
      ],
      "text/plain": [
       "                     Open           High            Low           Last  \\\n",
       "Date                                                                     \n",
       "1990-01-02 6954.000000000 6954.000000000 6835.000000000 6847.000000000   \n",
       "1990-01-03 6877.000000000 6910.000000000 6865.000000000 6887.000000000   \n",
       "1990-01-04 6937.000000000 7030.000000000 6924.000000000 7008.000000000   \n",
       "1990-01-05 6952.000000000 6985.000000000 6942.000000000 6950.000000000   \n",
       "1990-01-08 6936.000000000 6972.000000000 6936.000000000 6959.000000000   \n",
       "\n",
       "            Change         Settle          Volume  Previous Day Open Interest  \n",
       "Date                                                                           \n",
       "1990-01-02     nan 6847.000000000 48336.000000000             51473.000000000  \n",
       "1990-01-03     nan 6887.000000000 38206.000000000             53860.000000000  \n",
       "1990-01-04     nan 7008.000000000 49649.000000000             55699.000000000  \n",
       "1990-01-05     nan 6950.000000000 29944.000000000             53111.000000000  \n",
       "1990-01-08     nan 6959.000000000 19763.000000000             52072.000000000  "
      ]
     },
     "execution_count": 179,
     "metadata": {},
     "output_type": "execute_result"
    }
   ],
   "source": [
    "#Use the dataframe containing \"Settle\" Prices:\n",
    "fut.head()"
   ]
  },
  {
   "cell_type": "code",
   "execution_count": 180,
   "metadata": {},
   "outputs": [],
   "source": [
    "from sklearn.linear_model import LinearRegression\n",
    "\n",
    "# Construct a \"Futures Return\" column, using pandas pct_change() on the \"Settle\" price \n",
    "# If will be easier to also multiply this by 100, both to read and when we use it with SKLearn:\n",
    "fut[\"Futures_Return\"] = fut[\"Settle\"].copy().pct_change()*100\n",
    "\n",
    "# Feature Engineering\n",
    "# Create a second \"Lagged Return\" variable, that is the futures return variable shifted above, but lagged 1 day:\n",
    "# We\"ll use this lagged return as the feature vector X:\n",
    "fut[\"Lagged Return\"] = fut.Futures_Return.shift() \n",
    "fut = fut.replace(-np.inf, np.nan).dropna()\n",
    "\n",
    "# Construct a new \"X\" dataframe using just the \"Lagged Return\" variable:\n",
    "X = fut[\"Lagged Return\"].to_frame()"
   ]
  },
  {
   "cell_type": "code",
   "execution_count": 181,
   "metadata": {},
   "outputs": [
    {
     "data": {
      "text/html": [
       "<div>\n",
       "<style scoped>\n",
       "    .dataframe tbody tr th:only-of-type {\n",
       "        vertical-align: middle;\n",
       "    }\n",
       "\n",
       "    .dataframe tbody tr th {\n",
       "        vertical-align: top;\n",
       "    }\n",
       "\n",
       "    .dataframe thead th {\n",
       "        text-align: right;\n",
       "    }\n",
       "</style>\n",
       "<table border=\"1\" class=\"dataframe\">\n",
       "  <thead>\n",
       "    <tr style=\"text-align: right;\">\n",
       "      <th></th>\n",
       "      <th>Lagged Return</th>\n",
       "    </tr>\n",
       "    <tr>\n",
       "      <th>Date</th>\n",
       "      <th></th>\n",
       "    </tr>\n",
       "  </thead>\n",
       "  <tbody>\n",
       "    <tr>\n",
       "      <th>2014-02-18</th>\n",
       "      <td>0.409123453</td>\n",
       "    </tr>\n",
       "    <tr>\n",
       "      <th>2014-02-19</th>\n",
       "      <td>-0.427829276</td>\n",
       "    </tr>\n",
       "    <tr>\n",
       "      <th>2014-02-20</th>\n",
       "      <td>-0.020460358</td>\n",
       "    </tr>\n",
       "    <tr>\n",
       "      <th>2014-02-21</th>\n",
       "      <td>0.020464545</td>\n",
       "    </tr>\n",
       "    <tr>\n",
       "      <th>2014-02-24</th>\n",
       "      <td>-0.204603581</td>\n",
       "    </tr>\n",
       "    <tr>\n",
       "      <th>2014-02-25</th>\n",
       "      <td>0.020502307</td>\n",
       "    </tr>\n",
       "    <tr>\n",
       "      <th>2014-02-26</th>\n",
       "      <td>0.327969663</td>\n",
       "    </tr>\n",
       "    <tr>\n",
       "      <th>2014-02-27</th>\n",
       "      <td>-0.296250894</td>\n",
       "    </tr>\n",
       "    <tr>\n",
       "      <th>2014-02-28</th>\n",
       "      <td>0.389344262</td>\n",
       "    </tr>\n",
       "    <tr>\n",
       "      <th>2014-03-03</th>\n",
       "      <td>0.275566442</td>\n",
       "    </tr>\n",
       "  </tbody>\n",
       "</table>\n",
       "</div>"
      ],
      "text/plain": [
       "            Lagged Return\n",
       "Date                     \n",
       "2014-02-18    0.409123453\n",
       "2014-02-19   -0.427829276\n",
       "2014-02-20   -0.020460358\n",
       "2014-02-21    0.020464545\n",
       "2014-02-24   -0.204603581\n",
       "2014-02-25    0.020502307\n",
       "2014-02-26    0.327969663\n",
       "2014-02-27   -0.296250894\n",
       "2014-02-28    0.389344262\n",
       "2014-03-03    0.275566442"
      ]
     },
     "execution_count": 181,
     "metadata": {},
     "output_type": "execute_result"
    }
   ],
   "source": [
    "# yearly_average = df2.resample('A')\n",
    "# .index.year\n",
    "# .index.month\n",
    "# .index.weekofyear\n",
    "X.head(10)"
   ]
  },
  {
   "cell_type": "code",
   "execution_count": 182,
   "metadata": {},
   "outputs": [
    {
     "data": {
      "text/html": [
       "<div>\n",
       "<style scoped>\n",
       "    .dataframe tbody tr th:only-of-type {\n",
       "        vertical-align: middle;\n",
       "    }\n",
       "\n",
       "    .dataframe tbody tr th {\n",
       "        vertical-align: top;\n",
       "    }\n",
       "\n",
       "    .dataframe thead th {\n",
       "        text-align: right;\n",
       "    }\n",
       "</style>\n",
       "<table border=\"1\" class=\"dataframe\">\n",
       "  <thead>\n",
       "    <tr style=\"text-align: right;\">\n",
       "      <th></th>\n",
       "      <th>Lagged Return</th>\n",
       "      <th>Day_of_week_0</th>\n",
       "      <th>Day_of_week_1</th>\n",
       "      <th>Day_of_week_2</th>\n",
       "      <th>Day_of_week_3</th>\n",
       "      <th>Day_of_week_4</th>\n",
       "    </tr>\n",
       "    <tr>\n",
       "      <th>Date</th>\n",
       "      <th></th>\n",
       "      <th></th>\n",
       "      <th></th>\n",
       "      <th></th>\n",
       "      <th></th>\n",
       "      <th></th>\n",
       "    </tr>\n",
       "  </thead>\n",
       "  <tbody>\n",
       "    <tr>\n",
       "      <th>2014-02-18</th>\n",
       "      <td>0.409123453</td>\n",
       "      <td>0</td>\n",
       "      <td>1</td>\n",
       "      <td>0</td>\n",
       "      <td>0</td>\n",
       "      <td>0</td>\n",
       "    </tr>\n",
       "    <tr>\n",
       "      <th>2014-02-19</th>\n",
       "      <td>-0.427829276</td>\n",
       "      <td>0</td>\n",
       "      <td>0</td>\n",
       "      <td>1</td>\n",
       "      <td>0</td>\n",
       "      <td>0</td>\n",
       "    </tr>\n",
       "    <tr>\n",
       "      <th>2014-02-20</th>\n",
       "      <td>-0.020460358</td>\n",
       "      <td>0</td>\n",
       "      <td>0</td>\n",
       "      <td>0</td>\n",
       "      <td>1</td>\n",
       "      <td>0</td>\n",
       "    </tr>\n",
       "    <tr>\n",
       "      <th>2014-02-21</th>\n",
       "      <td>0.020464545</td>\n",
       "      <td>0</td>\n",
       "      <td>0</td>\n",
       "      <td>0</td>\n",
       "      <td>0</td>\n",
       "      <td>1</td>\n",
       "    </tr>\n",
       "    <tr>\n",
       "      <th>2014-02-24</th>\n",
       "      <td>-0.204603581</td>\n",
       "      <td>1</td>\n",
       "      <td>0</td>\n",
       "      <td>0</td>\n",
       "      <td>0</td>\n",
       "      <td>0</td>\n",
       "    </tr>\n",
       "    <tr>\n",
       "      <th>2014-02-25</th>\n",
       "      <td>0.020502307</td>\n",
       "      <td>0</td>\n",
       "      <td>1</td>\n",
       "      <td>0</td>\n",
       "      <td>0</td>\n",
       "      <td>0</td>\n",
       "    </tr>\n",
       "    <tr>\n",
       "      <th>2014-02-26</th>\n",
       "      <td>0.327969663</td>\n",
       "      <td>0</td>\n",
       "      <td>0</td>\n",
       "      <td>1</td>\n",
       "      <td>0</td>\n",
       "      <td>0</td>\n",
       "    </tr>\n",
       "    <tr>\n",
       "      <th>2014-02-27</th>\n",
       "      <td>-0.296250894</td>\n",
       "      <td>0</td>\n",
       "      <td>0</td>\n",
       "      <td>0</td>\n",
       "      <td>1</td>\n",
       "      <td>0</td>\n",
       "    </tr>\n",
       "    <tr>\n",
       "      <th>2014-02-28</th>\n",
       "      <td>0.389344262</td>\n",
       "      <td>0</td>\n",
       "      <td>0</td>\n",
       "      <td>0</td>\n",
       "      <td>0</td>\n",
       "      <td>1</td>\n",
       "    </tr>\n",
       "    <tr>\n",
       "      <th>2014-03-03</th>\n",
       "      <td>0.275566442</td>\n",
       "      <td>1</td>\n",
       "      <td>0</td>\n",
       "      <td>0</td>\n",
       "      <td>0</td>\n",
       "      <td>0</td>\n",
       "    </tr>\n",
       "    <tr>\n",
       "      <th>2014-03-04</th>\n",
       "      <td>0.346055980</td>\n",
       "      <td>0</td>\n",
       "      <td>1</td>\n",
       "      <td>0</td>\n",
       "      <td>0</td>\n",
       "      <td>0</td>\n",
       "    </tr>\n",
       "    <tr>\n",
       "      <th>2014-03-06</th>\n",
       "      <td>-0.801298306</td>\n",
       "      <td>0</td>\n",
       "      <td>0</td>\n",
       "      <td>0</td>\n",
       "      <td>1</td>\n",
       "      <td>0</td>\n",
       "    </tr>\n",
       "    <tr>\n",
       "      <th>2014-03-07</th>\n",
       "      <td>-0.766871166</td>\n",
       "      <td>0</td>\n",
       "      <td>0</td>\n",
       "      <td>0</td>\n",
       "      <td>0</td>\n",
       "      <td>1</td>\n",
       "    </tr>\n",
       "    <tr>\n",
       "      <th>2014-03-10</th>\n",
       "      <td>-0.247295209</td>\n",
       "      <td>1</td>\n",
       "      <td>0</td>\n",
       "      <td>0</td>\n",
       "      <td>0</td>\n",
       "      <td>0</td>\n",
       "    </tr>\n",
       "    <tr>\n",
       "      <th>2014-03-11</th>\n",
       "      <td>0.103295114</td>\n",
       "      <td>0</td>\n",
       "      <td>1</td>\n",
       "      <td>0</td>\n",
       "      <td>0</td>\n",
       "      <td>0</td>\n",
       "    </tr>\n",
       "    <tr>\n",
       "      <th>2014-03-12</th>\n",
       "      <td>0.278609019</td>\n",
       "      <td>0</td>\n",
       "      <td>0</td>\n",
       "      <td>1</td>\n",
       "      <td>0</td>\n",
       "      <td>0</td>\n",
       "    </tr>\n",
       "    <tr>\n",
       "      <th>2014-03-13</th>\n",
       "      <td>0.216093846</td>\n",
       "      <td>0</td>\n",
       "      <td>0</td>\n",
       "      <td>0</td>\n",
       "      <td>1</td>\n",
       "      <td>0</td>\n",
       "    </tr>\n",
       "    <tr>\n",
       "      <th>2014-03-14</th>\n",
       "      <td>1.026799466</td>\n",
       "      <td>0</td>\n",
       "      <td>0</td>\n",
       "      <td>0</td>\n",
       "      <td>0</td>\n",
       "      <td>1</td>\n",
       "    </tr>\n",
       "    <tr>\n",
       "      <th>2014-03-17</th>\n",
       "      <td>0.365890843</td>\n",
       "      <td>1</td>\n",
       "      <td>0</td>\n",
       "      <td>0</td>\n",
       "      <td>0</td>\n",
       "      <td>0</td>\n",
       "    </tr>\n",
       "    <tr>\n",
       "      <th>2014-03-18</th>\n",
       "      <td>-0.405063291</td>\n",
       "      <td>0</td>\n",
       "      <td>1</td>\n",
       "      <td>0</td>\n",
       "      <td>0</td>\n",
       "      <td>0</td>\n",
       "    </tr>\n",
       "  </tbody>\n",
       "</table>\n",
       "</div>"
      ],
      "text/plain": [
       "            Lagged Return  Day_of_week_0  Day_of_week_1  Day_of_week_2  \\\n",
       "Date                                                                     \n",
       "2014-02-18    0.409123453              0              1              0   \n",
       "2014-02-19   -0.427829276              0              0              1   \n",
       "2014-02-20   -0.020460358              0              0              0   \n",
       "2014-02-21    0.020464545              0              0              0   \n",
       "2014-02-24   -0.204603581              1              0              0   \n",
       "2014-02-25    0.020502307              0              1              0   \n",
       "2014-02-26    0.327969663              0              0              1   \n",
       "2014-02-27   -0.296250894              0              0              0   \n",
       "2014-02-28    0.389344262              0              0              0   \n",
       "2014-03-03    0.275566442              1              0              0   \n",
       "2014-03-04    0.346055980              0              1              0   \n",
       "2014-03-06   -0.801298306              0              0              0   \n",
       "2014-03-07   -0.766871166              0              0              0   \n",
       "2014-03-10   -0.247295209              1              0              0   \n",
       "2014-03-11    0.103295114              0              1              0   \n",
       "2014-03-12    0.278609019              0              0              1   \n",
       "2014-03-13    0.216093846              0              0              0   \n",
       "2014-03-14    1.026799466              0              0              0   \n",
       "2014-03-17    0.365890843              1              0              0   \n",
       "2014-03-18   -0.405063291              0              1              0   \n",
       "\n",
       "            Day_of_week_3  Day_of_week_4  \n",
       "Date                                      \n",
       "2014-02-18              0              0  \n",
       "2014-02-19              0              0  \n",
       "2014-02-20              1              0  \n",
       "2014-02-21              0              1  \n",
       "2014-02-24              0              0  \n",
       "2014-02-25              0              0  \n",
       "2014-02-26              0              0  \n",
       "2014-02-27              1              0  \n",
       "2014-02-28              0              1  \n",
       "2014-03-03              0              0  \n",
       "2014-03-04              0              0  \n",
       "2014-03-06              1              0  \n",
       "2014-03-07              0              1  \n",
       "2014-03-10              0              0  \n",
       "2014-03-11              0              0  \n",
       "2014-03-12              0              0  \n",
       "2014-03-13              1              0  \n",
       "2014-03-14              0              1  \n",
       "2014-03-17              0              0  \n",
       "2014-03-18              0              0  "
      ]
     },
     "execution_count": 182,
     "metadata": {},
     "output_type": "execute_result"
    }
   ],
   "source": [
    "# Add into the X dataframe either a \"dayofweek\" or \"weekofyear\" column, (e.g., using X.index.weekofyear) \n",
    "# X = X.resample('A')\n",
    "X[\"Day_of_week\"] = X.index.weekday\n",
    "\n",
    "# Create a new categorical X dataframe, by using pd.get_dummies() on the seasonal column created just above:\n",
    "X_binary_encoded = pd.get_dummies(X, columns = [\"Day_of_week\"]) \n",
    "# X_binary_encoded['Day_of_week_5'] = X_binary_encoded['Day_of_week_0']\n",
    "X_binary_encoded.head(20)"
   ]
  },
  {
   "cell_type": "code",
   "execution_count": 183,
   "metadata": {},
   "outputs": [],
   "source": [
    "# Create a \"y\" series, using just the \"Futures Return\" column created above.\n",
    "y = fut[\"Futures_Return\"].copy()\n",
    "\n",
    "# Construct a \"LinearRegression\" object:\n",
    "model = LinearRegression()\n",
    "\n",
    "# Fit a model using the X and y objects:\n",
    "results = model.fit(X_binary_encoded,y) "
   ]
  },
  {
   "cell_type": "code",
   "execution_count": 184,
   "metadata": {},
   "outputs": [
    {
     "data": {
      "text/plain": [
       "array([-0.02079002,  0.00424852,  0.01232902,  0.00335322, -0.00622851,\n",
       "       -0.0147579 , -0.00748287,  0.01660979, -0.00237247, -0.01368163])"
      ]
     },
     "execution_count": 184,
     "metadata": {},
     "output_type": "execute_result"
    }
   ],
   "source": [
    "# Construct predictions based on the X object:\n",
    "predictions = model.predict(X_binary_encoded)\n",
    "predictions[:10]"
   ]
  },
  {
   "cell_type": "markdown",
   "metadata": {},
   "source": [
    " Summarize the quality of your model using R2 and root-mean-squared-error (RMSE) statistics. How good is it?"
   ]
  },
  {
   "cell_type": "code",
   "execution_count": 185,
   "metadata": {},
   "outputs": [
    {
     "name": "stdout",
     "output_type": "stream",
     "text": [
      "Mean Squared Error (MSE): 0.29777408883875356\n",
      "R-squared (R2 ): 0.0005316592593405112\n",
      "Root Mean Squared Error (RMSE): 0.5456868047137969\n",
      "Standard Deviation of Futures Return: 0.546025445415136\n"
     ]
    }
   ],
   "source": [
    "from sklearn.metrics import mean_squared_error, r2_score\n",
    "# Calculate r2_score (r-squared)\n",
    "r2 = r2_score(y,predictions) \n",
    "\n",
    "# Calculate mean squared error \n",
    "# (A \"good\" MSE score will be close to zero while a \"good\" R2 Score will be close to 1.)\n",
    "mse = mean_squared_error(y,predictions)\n",
    "\n",
    "# Using mean squared eror above, calculate root-mean-squared error (RMSE)\n",
    "rmse = np.sqrt(mse)\n",
    "\n",
    "print(f\"Mean Squared Error (MSE): {mse}\")\n",
    "print(f\"R-squared (R2 ): {r2}\")\n",
    "print(f\"Root Mean Squared Error (RMSE): {rmse}\")\n",
    "print(f\"Standard Deviation of Futures Return: {y.std()}\")"
   ]
  },
  {
   "cell_type": "markdown",
   "metadata": {},
   "source": [
    " #### Plotting and Independent (X) Variable Interpretation"
   ]
  },
  {
   "cell_type": "markdown",
   "metadata": {},
   "source": [
    " Plot the model predictions of returns against actual returns, for just data from 2018 onward."
   ]
  },
  {
   "cell_type": "code",
   "execution_count": 186,
   "metadata": {},
   "outputs": [
    {
     "data": {
      "text/html": [
       "<div>\n",
       "<style scoped>\n",
       "    .dataframe tbody tr th:only-of-type {\n",
       "        vertical-align: middle;\n",
       "    }\n",
       "\n",
       "    .dataframe tbody tr th {\n",
       "        vertical-align: top;\n",
       "    }\n",
       "\n",
       "    .dataframe thead th {\n",
       "        text-align: right;\n",
       "    }\n",
       "</style>\n",
       "<table border=\"1\" class=\"dataframe\">\n",
       "  <thead>\n",
       "    <tr style=\"text-align: right;\">\n",
       "      <th></th>\n",
       "      <th>Futures_Return</th>\n",
       "      <th>prediction</th>\n",
       "    </tr>\n",
       "    <tr>\n",
       "      <th>Date</th>\n",
       "      <th></th>\n",
       "      <th></th>\n",
       "    </tr>\n",
       "  </thead>\n",
       "  <tbody>\n",
       "    <tr>\n",
       "      <th>2014-02-18</th>\n",
       "      <td>-0.427829276</td>\n",
       "      <td>-0.020790020</td>\n",
       "    </tr>\n",
       "    <tr>\n",
       "      <th>2014-02-19</th>\n",
       "      <td>-0.020460358</td>\n",
       "      <td>0.004248520</td>\n",
       "    </tr>\n",
       "    <tr>\n",
       "      <th>2014-02-20</th>\n",
       "      <td>0.020464545</td>\n",
       "      <td>0.012329016</td>\n",
       "    </tr>\n",
       "    <tr>\n",
       "      <th>2014-02-21</th>\n",
       "      <td>-0.204603581</td>\n",
       "      <td>0.003353218</td>\n",
       "    </tr>\n",
       "    <tr>\n",
       "      <th>2014-02-24</th>\n",
       "      <td>0.020502307</td>\n",
       "      <td>-0.006228512</td>\n",
       "    </tr>\n",
       "  </tbody>\n",
       "</table>\n",
       "</div>"
      ],
      "text/plain": [
       "            Futures_Return   prediction\n",
       "Date                                   \n",
       "2014-02-18    -0.427829276 -0.020790020\n",
       "2014-02-19    -0.020460358  0.004248520\n",
       "2014-02-20     0.020464545  0.012329016\n",
       "2014-02-21    -0.204603581  0.003353218\n",
       "2014-02-24     0.020502307 -0.006228512"
      ]
     },
     "execution_count": 186,
     "metadata": {},
     "output_type": "execute_result"
    }
   ],
   "source": [
    "# Create a \"y\" dataframe, using just the \"Futures Return\" column created above. \n",
    "y_df = y.to_frame()\n",
    "\n",
    "# Add the model predictions from above as an additional column to that dataframe:\n",
    "y_df[\"prediction\"] = model.predict(X_binary_encoded)\n",
    "y_df.head()"
   ]
  },
  {
   "cell_type": "code",
   "execution_count": 187,
   "metadata": {},
   "outputs": [
    {
     "data": {
      "text/plain": [
       "array([<matplotlib.axes._subplots.AxesSubplot object at 0x00000235155430F0>,\n",
       "       <matplotlib.axes._subplots.AxesSubplot object at 0x0000023515549908>],\n",
       "      dtype=object)"
      ]
     },
     "execution_count": 187,
     "metadata": {},
     "output_type": "execute_result"
    },
    {
     "data": {
      "image/png": "[encoded data removed]",
      "text/plain": [
       "<Figure size 432x288 with 2 Axes>"
      ]
     },
     "metadata": {
      "needs_background": "light"
     },
     "output_type": "display_data"
    }
   ],
   "source": [
    "# Plot the two from 2018 onward\n",
    "y_df['2018-01-01':].plot(subplots=True) "
   ]
  },
  {
   "cell_type": "markdown",
   "metadata": {},
   "source": [
    " Separately, plot the calendar effects estimated from the model using matplotlib. Do you see any seasonal patterns?"
   ]
  },
  {
   "cell_type": "code",
   "execution_count": 188,
   "metadata": {},
   "outputs": [
    {
     "data": {
      "text/html": [
       "<div>\n",
       "<style scoped>\n",
       "    .dataframe tbody tr th:only-of-type {\n",
       "        vertical-align: middle;\n",
       "    }\n",
       "\n",
       "    .dataframe tbody tr th {\n",
       "        vertical-align: top;\n",
       "    }\n",
       "\n",
       "    .dataframe thead th {\n",
       "        text-align: right;\n",
       "    }\n",
       "</style>\n",
       "<table border=\"1\" class=\"dataframe\">\n",
       "  <thead>\n",
       "    <tr style=\"text-align: right;\">\n",
       "      <th></th>\n",
       "      <th>Coefficient</th>\n",
       "    </tr>\n",
       "  </thead>\n",
       "  <tbody>\n",
       "    <tr>\n",
       "      <th>Day_of_week_0</th>\n",
       "      <td>-0.007293559</td>\n",
       "    </tr>\n",
       "    <tr>\n",
       "      <th>Day_of_week_1</th>\n",
       "      <td>-0.012328894</td>\n",
       "    </tr>\n",
       "    <tr>\n",
       "      <th>Day_of_week_2</th>\n",
       "      <td>-0.000281400</td>\n",
       "    </tr>\n",
       "    <tr>\n",
       "      <th>Day_of_week_3</th>\n",
       "      <td>0.014122211</td>\n",
       "    </tr>\n",
       "    <tr>\n",
       "      <th>Day_of_week_4</th>\n",
       "      <td>0.005781643</td>\n",
       "    </tr>\n",
       "  </tbody>\n",
       "</table>\n",
       "</div>"
      ],
      "text/plain": [
       "               Coefficient\n",
       "Day_of_week_0 -0.007293559\n",
       "Day_of_week_1 -0.012328894\n",
       "Day_of_week_2 -0.000281400\n",
       "Day_of_week_3  0.014122211\n",
       "Day_of_week_4  0.005781643"
      ]
     },
     "execution_count": 188,
     "metadata": {},
     "output_type": "execute_result"
    }
   ],
   "source": [
    "# Construct a dataframe of the model calendar-effect coefficients and review the output:\n",
    "results = pd.DataFrame(model.coef_, columns=[\"Coefficient\"], index=X_binary_encoded.columns)\n",
    "\n",
    "# Filter results so that it only includes either the day-of-week or week-of-year effect \n",
    "results = (results[results.index.str.contains(\"Day_of_week\")])\n",
    "\n",
    "results.head(10)"
   ]
  },
  {
   "cell_type": "code",
   "execution_count": 189,
   "metadata": {},
   "outputs": [
    {
     "data": {
      "text/plain": [
       "<matplotlib.axes._subplots.AxesSubplot at 0x235152df860>"
      ]
     },
     "execution_count": 189,
     "metadata": {},
     "output_type": "execute_result"
    },
    {
     "data": {
      "image/png": "[encoded data removed]",
      "text/plain": [
       "<Figure size 432x288 with 1 Axes>"
      ]
     },
     "metadata": {
      "needs_background": "light"
     },
     "output_type": "display_data"
    }
   ],
   "source": [
    "# Plot the results of the individual seasonal effects using pandas df.plot()\n",
    "# plt.scatter(X,y)\n",
    "# plt.plot(X,predictions, color='red')\n",
    "\n",
    "results.plot(kind='bar')"
   ]
  },
  {
   "cell_type": "markdown",
   "metadata": {},
   "source": [
    " # Return Forecasting: Autocorrelation and the ARMA Model"
   ]
  },
  {
   "cell_type": "markdown",
   "metadata": {},
   "source": [
    " Using futures Settle *Returns*, estimate an ARMA model.\n",
    " 1. Set the AR and MA (\"p\" and \"q\") parameters to p=2 and q=1.\n",
    " 2. Plot autocorrelation and partial correlation graphs with an alpha of 0.10 and lags=30. If, when looking at the correlation graphs, additional lags seem important for predicting returns, increase the number of lags in the ARMA model from (1).\n",
    " 3. Does increasing the number of \"p\" or \"q\" increase the ability of the model? Compare your results between the two models by comparing the Bayseian Information Criterion, or BIC."
   ]
  },
  {
   "cell_type": "code",
   "execution_count": 190,
   "metadata": {},
   "outputs": [
    {
     "data": {
      "text/plain": [
       "<statsmodels.tsa.arima_model.ARMA at 0x23515cf94e0>"
      ]
     },
     "execution_count": 190,
     "metadata": {},
     "output_type": "execute_result"
    }
   ],
   "source": [
    "import statsmodels.api as sm\n",
    "from statsmodels.tsa.arima_model import ARMA\n",
    "# Create a series using \"Settle\" price percentage returns, and drop any nan's:\n",
    "returns = fut[[\"Settle\"]].pct_change().dropna()\n",
    "\n",
    "# Estimate and ARMA model using statsmodels\n",
    "# Hint: ARMA(df, order=(p, q)).fit()\n",
    "autoregressive_count = 2\n",
    "moving_average_window = 1\n",
    "model =  ARMA(returns, order=(autoregressive_count, moving_average_window))\n",
    "model"
   ]
  },
  {
   "cell_type": "code",
   "execution_count": 191,
   "metadata": {},
   "outputs": [],
   "source": [
    "#p trend autoregression order\n",
    "#d trend difference order \n",
    "#q trend moving-average order "
   ]
  },
  {
   "cell_type": "code",
   "execution_count": 192,
   "metadata": {},
   "outputs": [],
   "source": [
    "# Output model summary results:\n",
    "results = model.fit()"
   ]
  },
  {
   "cell_type": "code",
   "execution_count": 193,
   "metadata": {},
   "outputs": [
    {
     "data": {
      "text/html": [
       "<table class=\"simpletable\">\n",
       "<caption>ARMA Model Results</caption>\n",
       "<tr>\n",
       "  <th>Dep. Variable:</th>      <td>Settle</td>      <th>  No. Observations:  </th>    <td>1410</td>   \n",
       "</tr>\n",
       "<tr>\n",
       "  <th>Model:</th>            <td>ARMA(2, 1)</td>    <th>  Log Likelihood     </th>  <td>5347.586</td> \n",
       "</tr>\n",
       "<tr>\n",
       "  <th>Method:</th>             <td>css-mle</td>     <th>  S.D. of innovations</th>    <td>0.005</td>  \n",
       "</tr>\n",
       "<tr>\n",
       "  <th>Date:</th>          <td>Thu, 10 Oct 2019</td> <th>  AIC                </th> <td>-10685.172</td>\n",
       "</tr>\n",
       "<tr>\n",
       "  <th>Time:</th>              <td>15:21:01</td>     <th>  BIC                </th> <td>-10658.915</td>\n",
       "</tr>\n",
       "<tr>\n",
       "  <th>Sample:</th>                <td>0</td>        <th>  HQIC               </th> <td>-10675.360</td>\n",
       "</tr>\n",
       "<tr>\n",
       "  <th></th>                       <td> </td>        <th>                     </th>      <td> </td>    \n",
       "</tr>\n",
       "</table>\n",
       "<table class=\"simpletable\">\n",
       "<tr>\n",
       "        <td></td>          <th>coef</th>     <th>std err</th>      <th>z</th>      <th>P>|z|</th>  <th>[0.025</th>    <th>0.975]</th>  \n",
       "</tr>\n",
       "<tr>\n",
       "  <th>const</th>        <td>-1.771e-05</td> <td>    0.000</td> <td>   -0.116</td> <td> 0.908</td> <td>   -0.000</td> <td>    0.000</td>\n",
       "</tr>\n",
       "<tr>\n",
       "  <th>ar.L1.Settle</th> <td>    0.2980</td> <td>    0.339</td> <td>    0.880</td> <td> 0.379</td> <td>   -0.366</td> <td>    0.962</td>\n",
       "</tr>\n",
       "<tr>\n",
       "  <th>ar.L2.Settle</th> <td>    0.0464</td> <td>    0.027</td> <td>    1.746</td> <td> 0.081</td> <td>   -0.006</td> <td>    0.099</td>\n",
       "</tr>\n",
       "<tr>\n",
       "  <th>ma.L1.Settle</th> <td>   -0.3117</td> <td>    0.338</td> <td>   -0.921</td> <td> 0.357</td> <td>   -0.975</td> <td>    0.352</td>\n",
       "</tr>\n",
       "</table>\n",
       "<table class=\"simpletable\">\n",
       "<caption>Roots</caption>\n",
       "<tr>\n",
       "    <td></td>   <th>            Real</th>  <th>         Imaginary</th> <th>         Modulus</th>  <th>        Frequency</th>\n",
       "</tr>\n",
       "<tr>\n",
       "  <th>AR.1</th> <td>           2.4335</td> <td>          +0.0000j</td> <td>           2.4335</td> <td>           0.0000</td>\n",
       "</tr>\n",
       "<tr>\n",
       "  <th>AR.2</th> <td>          -8.8527</td> <td>          +0.0000j</td> <td>           8.8527</td> <td>           0.5000</td>\n",
       "</tr>\n",
       "<tr>\n",
       "  <th>MA.1</th> <td>           3.2085</td> <td>          +0.0000j</td> <td>           3.2085</td> <td>           0.0000</td>\n",
       "</tr>\n",
       "</table>"
      ],
      "text/plain": [
       "<class 'statsmodels.iolib.summary.Summary'>\n",
       "\"\"\"\n",
       "                              ARMA Model Results                              \n",
       "==============================================================================\n",
       "Dep. Variable:                 Settle   No. Observations:                 1410\n",
       "Model:                     ARMA(2, 1)   Log Likelihood                5347.586\n",
       "Method:                       css-mle   S.D. of innovations              0.005\n",
       "Date:                Thu, 10 Oct 2019   AIC                         -10685.172\n",
       "Time:                        15:21:01   BIC                         -10658.915\n",
       "Sample:                             0   HQIC                        -10675.360\n",
       "                                                                              \n",
       "================================================================================\n",
       "                   coef    std err          z      P>|z|      [0.025      0.975]\n",
       "--------------------------------------------------------------------------------\n",
       "const        -1.771e-05      0.000     -0.116      0.908      -0.000       0.000\n",
       "ar.L1.Settle     0.2980      0.339      0.880      0.379      -0.366       0.962\n",
       "ar.L2.Settle     0.0464      0.027      1.746      0.081      -0.006       0.099\n",
       "ma.L1.Settle    -0.3117      0.338     -0.921      0.357      -0.975       0.352\n",
       "                                    Roots                                    \n",
       "=============================================================================\n",
       "                  Real          Imaginary           Modulus         Frequency\n",
       "-----------------------------------------------------------------------------\n",
       "AR.1            2.4335           +0.0000j            2.4335            0.0000\n",
       "AR.2           -8.8527           +0.0000j            8.8527            0.5000\n",
       "MA.1            3.2085           +0.0000j            3.2085            0.0000\n",
       "-----------------------------------------------------------------------------\n",
       "\"\"\""
      ]
     },
     "execution_count": 193,
     "metadata": {},
     "output_type": "execute_result"
    }
   ],
   "source": [
    "#AIC\n",
    "#BIC Bayesian InfoCriterion penalizes more for more parameters \n",
    "#lower is better \n",
    "\n",
    "results.summary()"
   ]
  },
  {
   "cell_type": "code",
   "execution_count": 194,
   "metadata": {},
   "outputs": [
    {
     "data": {
      "text/html": [
       "<div>\n",
       "<style scoped>\n",
       "    .dataframe tbody tr th:only-of-type {\n",
       "        vertical-align: middle;\n",
       "    }\n",
       "\n",
       "    .dataframe tbody tr th {\n",
       "        vertical-align: top;\n",
       "    }\n",
       "\n",
       "    .dataframe thead th {\n",
       "        text-align: right;\n",
       "    }\n",
       "</style>\n",
       "<table border=\"1\" class=\"dataframe\">\n",
       "  <thead>\n",
       "    <tr style=\"text-align: right;\">\n",
       "      <th></th>\n",
       "      <th>Settle</th>\n",
       "    </tr>\n",
       "    <tr>\n",
       "      <th>Date</th>\n",
       "      <th></th>\n",
       "    </tr>\n",
       "  </thead>\n",
       "  <tbody>\n",
       "    <tr>\n",
       "      <th>2014-02-19</th>\n",
       "      <td>-0.000204604</td>\n",
       "    </tr>\n",
       "    <tr>\n",
       "      <th>2014-02-20</th>\n",
       "      <td>0.000204645</td>\n",
       "    </tr>\n",
       "    <tr>\n",
       "      <th>2014-02-21</th>\n",
       "      <td>-0.002046036</td>\n",
       "    </tr>\n",
       "    <tr>\n",
       "      <th>2014-02-24</th>\n",
       "      <td>0.000205023</td>\n",
       "    </tr>\n",
       "    <tr>\n",
       "      <th>2014-02-25</th>\n",
       "      <td>0.003279697</td>\n",
       "    </tr>\n",
       "  </tbody>\n",
       "</table>\n",
       "</div>"
      ],
      "text/plain": [
       "                 Settle\n",
       "Date                   \n",
       "2014-02-19 -0.000204604\n",
       "2014-02-20  0.000204645\n",
       "2014-02-21 -0.002046036\n",
       "2014-02-24  0.000205023\n",
       "2014-02-25  0.003279697"
      ]
     },
     "execution_count": 194,
     "metadata": {},
     "output_type": "execute_result"
    }
   ],
   "source": [
    "returns.head()"
   ]
  },
  {
   "cell_type": "code",
   "execution_count": null,
   "metadata": {},
   "outputs": [],
   "source": []
  },
  {
   "cell_type": "code",
   "execution_count": null,
   "metadata": {},
   "outputs": [],
   "source": []
  },
  {
   "cell_type": "code",
   "execution_count": 195,
   "metadata": {},
   "outputs": [
    {
     "data": {
      "image/png": "[encoded data removed]",
      "text/plain": [
       "<Figure size 432x288 with 1 Axes>"
      ]
     },
     "execution_count": 195,
     "metadata": {},
     "output_type": "execute_result"
    },
    {
     "data": {
      "image/png": "[encoded data removed]",
      "text/plain": [
       "<Figure size 432x288 with 1 Axes>"
      ]
     },
     "metadata": {
      "needs_background": "light"
     },
     "output_type": "display_data"
    },
    {
     "data": {
      "image/png": "[encoded data removed]",
      "text/plain": [
       "<Figure size 432x288 with 1 Axes>"
      ]
     },
     "metadata": {
      "needs_background": "light"
     },
     "output_type": "display_data"
    }
   ],
   "source": [
    "# Plot autocorrelation and partial correlation graphs with an alpha of 0.10 and lags=30.\n",
    "from statsmodels.graphics.tsaplots import plot_acf, plot_pacf\n",
    "# Autocorrelation (For detecting # of MA (\"P\") Lags)\n",
    "plot_acf(returns, lags = 30)\n",
    "\n",
    "# Partial Autocorrelation (For detecting # of MA (\"P\") Lags)\n",
    "plot_pacf(returns, zero=False, lags =30)"
   ]
  },
  {
   "cell_type": "code",
   "execution_count": 196,
   "metadata": {},
   "outputs": [
    {
     "data": {
      "text/html": [
       "<table class=\"simpletable\">\n",
       "<caption>ARMA Model Results</caption>\n",
       "<tr>\n",
       "  <th>Dep. Variable:</th>      <td>Settle</td>      <th>  No. Observations:  </th>    <td>1410</td>   \n",
       "</tr>\n",
       "<tr>\n",
       "  <th>Model:</th>            <td>ARMA(2, 1)</td>    <th>  Log Likelihood     </th>  <td>5347.586</td> \n",
       "</tr>\n",
       "<tr>\n",
       "  <th>Method:</th>             <td>css-mle</td>     <th>  S.D. of innovations</th>    <td>0.005</td>  \n",
       "</tr>\n",
       "<tr>\n",
       "  <th>Date:</th>          <td>Thu, 10 Oct 2019</td> <th>  AIC                </th> <td>-10685.172</td>\n",
       "</tr>\n",
       "<tr>\n",
       "  <th>Time:</th>              <td>15:21:02</td>     <th>  BIC                </th> <td>-10658.915</td>\n",
       "</tr>\n",
       "<tr>\n",
       "  <th>Sample:</th>                <td>0</td>        <th>  HQIC               </th> <td>-10675.360</td>\n",
       "</tr>\n",
       "<tr>\n",
       "  <th></th>                       <td> </td>        <th>                     </th>      <td> </td>    \n",
       "</tr>\n",
       "</table>\n",
       "<table class=\"simpletable\">\n",
       "<tr>\n",
       "        <td></td>          <th>coef</th>     <th>std err</th>      <th>z</th>      <th>P>|z|</th>  <th>[0.025</th>    <th>0.975]</th>  \n",
       "</tr>\n",
       "<tr>\n",
       "  <th>const</th>        <td>-1.771e-05</td> <td>    0.000</td> <td>   -0.116</td> <td> 0.908</td> <td>   -0.000</td> <td>    0.000</td>\n",
       "</tr>\n",
       "<tr>\n",
       "  <th>ar.L1.Settle</th> <td>    0.2980</td> <td>    0.339</td> <td>    0.880</td> <td> 0.379</td> <td>   -0.366</td> <td>    0.962</td>\n",
       "</tr>\n",
       "<tr>\n",
       "  <th>ar.L2.Settle</th> <td>    0.0464</td> <td>    0.027</td> <td>    1.746</td> <td> 0.081</td> <td>   -0.006</td> <td>    0.099</td>\n",
       "</tr>\n",
       "<tr>\n",
       "  <th>ma.L1.Settle</th> <td>   -0.3117</td> <td>    0.338</td> <td>   -0.921</td> <td> 0.357</td> <td>   -0.975</td> <td>    0.352</td>\n",
       "</tr>\n",
       "</table>\n",
       "<table class=\"simpletable\">\n",
       "<caption>Roots</caption>\n",
       "<tr>\n",
       "    <td></td>   <th>            Real</th>  <th>         Imaginary</th> <th>         Modulus</th>  <th>        Frequency</th>\n",
       "</tr>\n",
       "<tr>\n",
       "  <th>AR.1</th> <td>           2.4335</td> <td>          +0.0000j</td> <td>           2.4335</td> <td>           0.0000</td>\n",
       "</tr>\n",
       "<tr>\n",
       "  <th>AR.2</th> <td>          -8.8527</td> <td>          +0.0000j</td> <td>           8.8527</td> <td>           0.5000</td>\n",
       "</tr>\n",
       "<tr>\n",
       "  <th>MA.1</th> <td>           3.2085</td> <td>          +0.0000j</td> <td>           3.2085</td> <td>           0.0000</td>\n",
       "</tr>\n",
       "</table>"
      ],
      "text/plain": [
       "<class 'statsmodels.iolib.summary.Summary'>\n",
       "\"\"\"\n",
       "                              ARMA Model Results                              \n",
       "==============================================================================\n",
       "Dep. Variable:                 Settle   No. Observations:                 1410\n",
       "Model:                     ARMA(2, 1)   Log Likelihood                5347.586\n",
       "Method:                       css-mle   S.D. of innovations              0.005\n",
       "Date:                Thu, 10 Oct 2019   AIC                         -10685.172\n",
       "Time:                        15:21:02   BIC                         -10658.915\n",
       "Sample:                             0   HQIC                        -10675.360\n",
       "                                                                              \n",
       "================================================================================\n",
       "                   coef    std err          z      P>|z|      [0.025      0.975]\n",
       "--------------------------------------------------------------------------------\n",
       "const        -1.771e-05      0.000     -0.116      0.908      -0.000       0.000\n",
       "ar.L1.Settle     0.2980      0.339      0.880      0.379      -0.366       0.962\n",
       "ar.L2.Settle     0.0464      0.027      1.746      0.081      -0.006       0.099\n",
       "ma.L1.Settle    -0.3117      0.338     -0.921      0.357      -0.975       0.352\n",
       "                                    Roots                                    \n",
       "=============================================================================\n",
       "                  Real          Imaginary           Modulus         Frequency\n",
       "-----------------------------------------------------------------------------\n",
       "AR.1            2.4335           +0.0000j            2.4335            0.0000\n",
       "AR.2           -8.8527           +0.0000j            8.8527            0.5000\n",
       "MA.1            3.2085           +0.0000j            3.2085            0.0000\n",
       "-----------------------------------------------------------------------------\n",
       "\"\"\""
      ]
     },
     "execution_count": 196,
     "metadata": {},
     "output_type": "execute_result"
    }
   ],
   "source": [
    "autoregressive_count = 17\n",
    "moving_average_window = 6\n",
    "\n",
    "# Esimate your model based on your interpretation of the autocorrelation/partial autocorrelation plots:\n",
    "model = ARMA(returns, order = [2,1,1]) \n",
    "\n",
    "# Review model summary results:\n",
    "results.summary()"
   ]
  },
  {
   "cell_type": "markdown",
   "metadata": {},
   "source": [
    "## Distribution of Residuals "
   ]
  },
  {
   "cell_type": "code",
   "execution_count": 197,
   "metadata": {},
   "outputs": [
    {
     "data": {
      "text/plain": [
       "<matplotlib.axes._subplots.AxesSubplot at 0x235165e66a0>"
      ]
     },
     "execution_count": 197,
     "metadata": {},
     "output_type": "execute_result"
    },
    {
     "data": {
      "image/png": "[encoded data removed]",
      "text/plain": [
       "<Figure size 432x288 with 1 Axes>"
      ]
     },
     "metadata": {
      "needs_background": "light"
     },
     "output_type": "display_data"
    }
   ],
   "source": [
    "fit = model.fit()\n",
    "residuals = pd.DataFrame(fit.resid, columns =['residuals'])\n",
    "residuals.plot(kind='kde', title = 'ARIMA Model')\n"
   ]
  },
  {
   "cell_type": "code",
   "execution_count": null,
   "metadata": {},
   "outputs": [],
   "source": []
  },
  {
   "cell_type": "markdown",
   "metadata": {},
   "source": [
    " # Return Forecasting: Deploying the ARIMA Model"
   ]
  },
  {
   "cell_type": "markdown",
   "metadata": {},
   "source": [
    " 1. Using the *raw* Yen **Settle Price**, estimate an ARIMA model.\n",
    "     1. Set P=5, D=1, and Q=1 in the model (e.g., ARIMA(df, order=(5,1,1))\n",
    "     2. P= # of Auto-Regressive Lags, D= # of Differences (this is usually =1), Q= # of Moving Average Lags\n",
    "\n",
    " 2. Plot the residuals from the model. If residuals are the part of returns that our model *doesn\"t* explain, does it seem like our model has missed any seasonality?\n",
    " 3. Construct a 15 day (3 week) forecast for the Settle Price. What does the model forecast will happen to the Japanese Yen in the near term?"
   ]
  },
  {
   "cell_type": "code",
   "execution_count": 198,
   "metadata": {},
   "outputs": [
    {
     "data": {
      "text/plain": [
       "Date\n",
       "2014-02-18   9775.000000000\n",
       "2014-02-19   9773.000000000\n",
       "2014-02-20   9775.000000000\n",
       "2014-02-21   9755.000000000\n",
       "2014-02-24   9757.000000000\n",
       "Name: Settle, dtype: float64"
      ]
     },
     "execution_count": 198,
     "metadata": {},
     "output_type": "execute_result"
    }
   ],
   "source": [
    "# For ARIMA, construct a dataframe using just the futures \"Settle\" prices:\n",
    "df = fut['Settle'].dropna()\n",
    "df.head()"
   ]
  },
  {
   "cell_type": "code",
   "execution_count": 199,
   "metadata": {},
   "outputs": [
    {
     "name": "stdout",
     "output_type": "stream",
     "text": [
      "                             ARIMA Model Results                              \n",
      "==============================================================================\n",
      "Dep. Variable:               D.Settle   No. Observations:                 1410\n",
      "Model:                 ARIMA(5, 1, 1)   Log Likelihood               -7489.597\n",
      "Method:                       css-mle   S.D. of innovations             49.049\n",
      "Date:                Thu, 10 Oct 2019   AIC                          14995.194\n",
      "Time:                        15:21:04   BIC                          15037.205\n",
      "Sample:                             1   HQIC                         15010.893\n",
      "                                                                              \n",
      "==================================================================================\n",
      "                     coef    std err          z      P>|z|      [0.025      0.975]\n",
      "----------------------------------------------------------------------------------\n",
      "const             -0.3114      1.332     -0.234      0.815      -2.922       2.299\n",
      "ar.L1.D.Settle    -0.5831      0.313     -1.860      0.063      -1.197       0.031\n",
      "ar.L2.D.Settle     0.0394      0.031      1.266      0.206      -0.022       0.100\n",
      "ar.L3.D.Settle     0.0620      0.034      1.848      0.065      -0.004       0.128\n",
      "ar.L4.D.Settle     0.0014      0.033      0.043      0.966      -0.063       0.065\n",
      "ar.L5.D.Settle    -0.0609      0.028     -2.193      0.028      -0.115      -0.006\n",
      "ma.L1.D.Settle     0.5713      0.314      1.821      0.069      -0.044       1.186\n",
      "                                    Roots                                    \n",
      "=============================================================================\n",
      "                  Real          Imaginary           Modulus         Frequency\n",
      "-----------------------------------------------------------------------------\n",
      "AR.1           -1.3616           -0.0000j            1.3616           -0.5000\n",
      "AR.2           -0.9443           -1.4285j            1.7124           -0.3430\n",
      "AR.3           -0.9443           +1.4285j            1.7124            0.3430\n",
      "AR.4            1.6366           -1.1986j            2.0286           -0.1006\n",
      "AR.5            1.6366           +1.1986j            2.0286            0.1006\n",
      "MA.1           -1.7503           +0.0000j            1.7503            0.5000\n",
      "-----------------------------------------------------------------------------\n"
     ]
    },
    {
     "data": {
      "image/png": "[encoded data removed]",
      "text/plain": [
       "<Figure size 432x288 with 1 Axes>"
      ]
     },
     "metadata": {
      "needs_background": "light"
     },
     "output_type": "display_data"
    },
    {
     "name": "stdout",
     "output_type": "stream",
     "text": [
      "count   1410.000000000\n",
      "mean       0.001209029\n",
      "std       49.066559676\n",
      "min     -234.074059627\n",
      "25%      -27.672487838\n",
      "50%       -0.827084263\n",
      "75%       25.436045313\n",
      "max      325.327401861\n",
      "dtype: float64\n"
     ]
    }
   ],
   "source": [
    "from statsmodels.tsa.arima_model import ARIMA\n",
    "# Estimate and ARIMA Model:\n",
    "# Hint: ARIMA(df, order=(p, d, q))\n",
    "model = ARIMA(df, order=(5,1,1)) \n",
    "model_fit = model.fit() \n",
    "# Output model summary results:\n",
    "print(model_fit.summary())\n",
    "# plot residual errors:\n",
    "residuals = model_fit.resid\n",
    "# residuals = pd.DataFrame(model_fit.resid, columns=['residuals']) \n",
    "residuals.plot(title=\"Noise (Model Residuals)\")\n",
    "plt.show()\n",
    "print(residuals.describe())"
   ]
  },
  {
   "cell_type": "markdown",
   "metadata": {},
   "source": [
    "## Distribution of Residuals "
   ]
  },
  {
   "cell_type": "code",
   "execution_count": 200,
   "metadata": {},
   "outputs": [],
   "source": [
    "# fit1=model.fit()\n",
    "# residuals1 = pd.DataFrame(fit1.resid, columns=['residuals'])\n",
    "# residuals1.plot(kind='kde')"
   ]
  },
  {
   "cell_type": "code",
   "execution_count": 201,
   "metadata": {},
   "outputs": [
    {
     "data": {
      "text/plain": [
       "'2019-10-09'"
      ]
     },
     "execution_count": 201,
     "metadata": {},
     "output_type": "execute_result"
    }
   ],
   "source": [
    "# Construct a 15 day (3 week) forecast for the Settle Price. \n",
    "# What does the model forecast will happen to the Japanese Yen in the near term?\n",
    "# Specifically, construct a pandas DataFrame containing ARIMA model forecasts for a 15-day window:\n",
    "\n",
    "last_day = df.index.max().strftime(\"%Y-%m-%d\")\n",
    "last_day\n"
   ]
  },
  {
   "cell_type": "code",
   "execution_count": null,
   "metadata": {},
   "outputs": [],
   "source": []
  },
  {
   "cell_type": "code",
   "execution_count": 202,
   "metadata": {},
   "outputs": [
    {
     "data": {
      "image/png": "[encoded data removed]",
      "text/plain": [
       "<Figure size 432x288 with 1 Axes>"
      ]
     },
     "metadata": {
      "needs_background": "light"
     },
     "output_type": "display_data"
    }
   ],
   "source": [
    "forecast_horizon = 15\n",
    "\n",
    "ax = pd.DataFrame(model_fit.forecast(steps= forecast_horizon)[0]).plot(legend = False)\n",
    "ax.set_title('Futures Price forecase for JPY/USD')\n",
    "ax.set_ylabel('JPY/USD Price')\n",
    "ax.set_xlabel('Days')\n",
    "plt.show()"
   ]
  },
  {
   "cell_type": "markdown",
   "metadata": {},
   "source": [
    " # Volatility Forecasting\n",
    "\n",
    " Rather than predicting returns, let's forecast near-term **volatility** of Japanese Yen futures returns. Being able to accurately predict volatility will be extremely useful if we want to trade in derivatives or quantify our maximum loss."
   ]
  },
  {
   "cell_type": "markdown",
   "metadata": {},
   "source": [
    "### Volatility Forecasting: GARCH and EGARCH Models\n",
    "Using the \"arch\" package, estimate either GARCH(1,1) or an EGARCH(p,q) volatility forecast model on futures settle returns."
   ]
  },
  {
   "cell_type": "code",
   "execution_count": 203,
   "metadata": {},
   "outputs": [],
   "source": [
    "import arch as arch\n",
    "from arch import arch_model"
   ]
  },
  {
   "cell_type": "code",
   "execution_count": 204,
   "metadata": {},
   "outputs": [],
   "source": [
    "returns = (fut['Settle'].pct_change()*100)\n",
    "\n"
   ]
  },
  {
   "cell_type": "code",
   "execution_count": 205,
   "metadata": {},
   "outputs": [
    {
     "data": {
      "text/html": [
       "<div>\n",
       "<style scoped>\n",
       "    .dataframe tbody tr th:only-of-type {\n",
       "        vertical-align: middle;\n",
       "    }\n",
       "\n",
       "    .dataframe tbody tr th {\n",
       "        vertical-align: top;\n",
       "    }\n",
       "\n",
       "    .dataframe thead th {\n",
       "        text-align: right;\n",
       "    }\n",
       "</style>\n",
       "<table border=\"1\" class=\"dataframe\">\n",
       "  <thead>\n",
       "    <tr style=\"text-align: right;\">\n",
       "      <th></th>\n",
       "      <th>Settle</th>\n",
       "    </tr>\n",
       "    <tr>\n",
       "      <th>Date</th>\n",
       "      <th></th>\n",
       "    </tr>\n",
       "  </thead>\n",
       "  <tbody>\n",
       "    <tr>\n",
       "      <th>2019-10-03</th>\n",
       "      <td>0.256040967</td>\n",
       "    </tr>\n",
       "    <tr>\n",
       "      <th>2019-10-04</th>\n",
       "      <td>0.021282256</td>\n",
       "    </tr>\n",
       "    <tr>\n",
       "      <th>2019-10-07</th>\n",
       "      <td>-0.414915687</td>\n",
       "    </tr>\n",
       "    <tr>\n",
       "      <th>2019-10-08</th>\n",
       "      <td>0.170931040</td>\n",
       "    </tr>\n",
       "    <tr>\n",
       "      <th>2019-10-09</th>\n",
       "      <td>-0.410600971</td>\n",
       "    </tr>\n",
       "  </tbody>\n",
       "</table>\n",
       "</div>"
      ],
      "text/plain": [
       "                 Settle\n",
       "Date                   \n",
       "2019-10-03  0.256040967\n",
       "2019-10-04  0.021282256\n",
       "2019-10-07 -0.414915687\n",
       "2019-10-08  0.170931040\n",
       "2019-10-09 -0.410600971"
      ]
     },
     "execution_count": 205,
     "metadata": {},
     "output_type": "execute_result"
    }
   ],
   "source": [
    "# Create a series using \"Settle\" price percentage returns, drop any nan\"s, and check the results:\n",
    "# (Make sure to multiply the pct_change() results by *100)\n",
    "# In this case, you may have to replace inf, -inf values with np.nan\"s\n",
    "returns=(fut[[\"Settle\"]].pct_change()*100)\n",
    "returns=returns.replace(-np.inf, np.nan).dropna()\n",
    "returns.tail()"
   ]
  },
  {
   "cell_type": "code",
   "execution_count": 206,
   "metadata": {},
   "outputs": [],
   "source": [
    "# Estimate a GARCH(1,1) model using the \"arch\" package:\n",
    "# (We need to drop all NaN\"s first in order to get this to run):\n",
    "am = arch_model(returns.Settle, mean='Zero', vol = 'GARCH', p=1,q=1)\n",
    "res = am.fit(disp='off')"
   ]
  },
  {
   "cell_type": "code",
   "execution_count": 207,
   "metadata": {},
   "outputs": [
    {
     "name": "stdout",
     "output_type": "stream",
     "text": [
      "                       Zero Mean - GARCH Model Results                        \n",
      "==============================================================================\n",
      "Dep. Variable:                 Settle   R-squared:                       0.000\n",
      "Mean Model:                 Zero Mean   Adj. R-squared:                  0.001\n",
      "Vol Model:                      GARCH   Log-Likelihood:               -1067.14\n",
      "Distribution:                  Normal   AIC:                           2140.28\n",
      "Method:            Maximum Likelihood   BIC:                           2156.03\n",
      "                                        No. Observations:                 1410\n",
      "Date:                Thu, Oct 10 2019   Df Residuals:                     1407\n",
      "Time:                        15:21:05   Df Model:                            3\n",
      "                               Volatility Model                              \n",
      "=============================================================================\n",
      "                 coef    std err          t      P>|t|       95.0% Conf. Int.\n",
      "-----------------------------------------------------------------------------\n",
      "omega      2.3938e-03  1.693e-03      1.414      0.157 [-9.253e-04,5.713e-03]\n",
      "alpha[1]       0.0403  1.531e-02      2.632  8.484e-03  [1.029e-02,7.031e-02]\n",
      "beta[1]        0.9525  1.779e-02     53.532      0.000      [  0.918,  0.987]\n",
      "=============================================================================\n",
      "\n",
      "Covariance estimator: robust\n"
     ]
    }
   ],
   "source": [
    "# Output the summary results of the GARCH model:\n",
    "print(res.summary())"
   ]
  },
  {
   "cell_type": "markdown",
   "metadata": {},
   "source": [
    "### Volatility Forecasting: Identifying Patterns of Clustered Volatility\n",
    "\n",
    "GARCH/EGARCH, etc. models are good for capturing the \"volatility clustering\" effect that is common in financial data. After estimating your model, can you identify periods when volatility clusters together?"
   ]
  },
  {
   "cell_type": "code",
   "execution_count": 208,
   "metadata": {},
   "outputs": [
    {
     "data": {
      "image/png": "[encoded data removed]",
      "text/plain": [
       "<Figure size 432x288 with 2 Axes>"
      ]
     },
     "metadata": {
      "needs_background": "light"
     },
     "output_type": "display_data"
    }
   ],
   "source": [
    "# Plot the model\"s conditional volatility for the Yen:\n",
    "# Hint: use .plot(annualize=\"D\")\n",
    "fig = res.plot(annualize='D')"
   ]
  },
  {
   "cell_type": "code",
   "execution_count": null,
   "metadata": {},
   "outputs": [],
   "source": []
  },
  {
   "cell_type": "code",
   "execution_count": null,
   "metadata": {},
   "outputs": [],
   "source": []
  },
  {
   "cell_type": "markdown",
   "metadata": {},
   "source": [
    "### Volatility Forecasting: 3-day Yen Volatility Forecasts using GARCH/EGARCH\n",
    "  * Let's do some forecasting of near-term risk. Specifically, use the .forecast() method to calculate 3-day forecasts. Then plot the resulting 3-day annualized variance. Is Yen volatility expected to rise or fall in the near term?"
   ]
  },
  {
   "cell_type": "code",
   "execution_count": 209,
   "metadata": {},
   "outputs": [
    {
     "data": {
      "text/plain": [
       "<arch.univariate.base.ARCHModelForecast at 0x2350b18e208>"
      ]
     },
     "execution_count": 209,
     "metadata": {},
     "output_type": "execute_result"
    }
   ],
   "source": [
    "# Note--You can either specify today\"s date manually, or use pd.datetime.today().strftime(\"%Y-%m-%d\") \n",
    "# (example format: start=\"2019-06-28\")\n",
    "# If you have problems with datetime, \n",
    "# specify data date manually using the most recent trading date in the dataframe\n",
    "# todays_date = pd.datetime.today().strftime(\"%Y-%m-%d\")                  \n",
    "todays_date = '2019-10-03'\n",
    "# Forecast volatility, from today\"s date until the following three days:\n",
    "forecast_horizon = 3\n",
    "forecasts = res.forecast(start=todays_date, horizon = forecast_horizon)\n",
    "forecasts"
   ]
  },
  {
   "cell_type": "code",
   "execution_count": null,
   "metadata": {},
   "outputs": [],
   "source": []
  },
  {
   "cell_type": "code",
   "execution_count": 210,
   "metadata": {},
   "outputs": [
    {
     "data": {
      "text/plain": [
       "<matplotlib.axes._subplots.AxesSubplot at 0x2350b1a7e48>"
      ]
     },
     "execution_count": 210,
     "metadata": {},
     "output_type": "execute_result"
    },
    {
     "data": {
      "image/png": "[encoded data removed]",
      "text/plain": [
       "<Figure size 864x576 with 1 Axes>"
      ]
     },
     "metadata": {
      "needs_background": "light"
     },
     "output_type": "display_data"
    }
   ],
   "source": [
    "# Plot the annualized volatility forecast using pd.plot():\n",
    "# (Make sure to use dropna() on the forecasts before plotting):\n",
    "# (There are 252 trading days in a year)\n",
    "# Note: each column in forecasts.variance represents one day ahead: \n",
    "plot_title = f\"Forecast Volatility over the next {forecast_horizon} days\"\n",
    "model_forecasts = np.sqrt(forecasts.variance.dropna() * 252)\n",
    "model_forecasts.dropna().plot(title=plot_title,figsize=(12,8)) "
   ]
  },
  {
   "cell_type": "code",
   "execution_count": 211,
   "metadata": {},
   "outputs": [
    {
     "data": {
      "image/png": "[encoded data removed]",
      "text/plain": [
       "<Figure size 432x288 with 1 Axes>"
      ]
     },
     "metadata": {
      "needs_background": "light"
     },
     "output_type": "display_data"
    }
   ],
   "source": [
    "fig = model_forecasts.plot()"
   ]
  },
  {
   "cell_type": "markdown",
   "metadata": {},
   "source": [
    " # Out-of-Sample Predictions\n",
    " So far, you\"ve used the full dataset to construct a model. Let's try a more rigorous technique."
   ]
  },
  {
   "cell_type": "markdown",
   "metadata": {},
   "source": [
    "### Out-of-Sample Predictions: Slicing the Data into Training and Test Set (\"One Shot\" Approach)\n",
    "\n",
    "Using the SKLearn regression model and just lagged returns as the independent variable, start by estimating a model using **training data** from January, 2015 through December 2017."
   ]
  },
  {
   "cell_type": "code",
   "execution_count": 212,
   "metadata": {},
   "outputs": [
    {
     "data": {
      "text/html": [
       "<div>\n",
       "<style scoped>\n",
       "    .dataframe tbody tr th:only-of-type {\n",
       "        vertical-align: middle;\n",
       "    }\n",
       "\n",
       "    .dataframe tbody tr th {\n",
       "        vertical-align: top;\n",
       "    }\n",
       "\n",
       "    .dataframe thead th {\n",
       "        text-align: right;\n",
       "    }\n",
       "</style>\n",
       "<table border=\"1\" class=\"dataframe\">\n",
       "  <thead>\n",
       "    <tr style=\"text-align: right;\">\n",
       "      <th></th>\n",
       "      <th>Futures_Return</th>\n",
       "      <th>Lagged_Return</th>\n",
       "    </tr>\n",
       "    <tr>\n",
       "      <th>Date</th>\n",
       "      <th></th>\n",
       "      <th></th>\n",
       "    </tr>\n",
       "  </thead>\n",
       "  <tbody>\n",
       "    <tr>\n",
       "      <th>2014-02-20</th>\n",
       "      <td>0.020464545</td>\n",
       "      <td>-0.020460358</td>\n",
       "    </tr>\n",
       "    <tr>\n",
       "      <th>2014-02-21</th>\n",
       "      <td>-0.204603581</td>\n",
       "      <td>0.020464545</td>\n",
       "    </tr>\n",
       "    <tr>\n",
       "      <th>2014-02-24</th>\n",
       "      <td>0.020502307</td>\n",
       "      <td>-0.204603581</td>\n",
       "    </tr>\n",
       "    <tr>\n",
       "      <th>2014-02-25</th>\n",
       "      <td>0.327969663</td>\n",
       "      <td>0.020502307</td>\n",
       "    </tr>\n",
       "    <tr>\n",
       "      <th>2014-02-26</th>\n",
       "      <td>-0.296250894</td>\n",
       "      <td>0.327969663</td>\n",
       "    </tr>\n",
       "  </tbody>\n",
       "</table>\n",
       "</div>"
      ],
      "text/plain": [
       "            Futures_Return  Lagged_Return\n",
       "Date                                     \n",
       "2014-02-20     0.020464545   -0.020460358\n",
       "2014-02-21    -0.204603581    0.020464545\n",
       "2014-02-24     0.020502307   -0.204603581\n",
       "2014-02-25     0.327969663    0.020502307\n",
       "2014-02-26    -0.296250894    0.327969663"
      ]
     },
     "execution_count": 212,
     "metadata": {},
     "output_type": "execute_result"
    }
   ],
   "source": [
    "# If you haven\"t already, create and add \"Futures Return\" and \"Lagged Futures Return\" variables to your dataframe:\n",
    "# Replace inf, -inf with np.nan, then drop any row with at least one np.nan in the dataframe\n",
    "fut[\"Futures_Return\"] = fut['Settle'].pct_change() * 100\n",
    "fut[\"Lagged_Return\"] = fut.Futures_Return.shift()\n",
    "fut = fut.replace(-np.inf, np.nan).dropna()\n",
    "fut[[\"Futures_Return\", \"Lagged_Return\"]].head()"
   ]
  },
  {
   "cell_type": "code",
   "execution_count": 213,
   "metadata": {},
   "outputs": [
    {
     "data": {
      "text/html": [
       "<div>\n",
       "<style scoped>\n",
       "    .dataframe tbody tr th:only-of-type {\n",
       "        vertical-align: middle;\n",
       "    }\n",
       "\n",
       "    .dataframe tbody tr th {\n",
       "        vertical-align: top;\n",
       "    }\n",
       "\n",
       "    .dataframe thead th {\n",
       "        text-align: right;\n",
       "    }\n",
       "</style>\n",
       "<table border=\"1\" class=\"dataframe\">\n",
       "  <thead>\n",
       "    <tr style=\"text-align: right;\">\n",
       "      <th></th>\n",
       "      <th>Open</th>\n",
       "      <th>High</th>\n",
       "      <th>Low</th>\n",
       "      <th>Last</th>\n",
       "      <th>Change</th>\n",
       "      <th>Settle</th>\n",
       "      <th>Volume</th>\n",
       "      <th>Previous Day Open Interest</th>\n",
       "      <th>Futures_Return</th>\n",
       "      <th>Lagged Return</th>\n",
       "      <th>Lagged_Return</th>\n",
       "    </tr>\n",
       "    <tr>\n",
       "      <th>Date</th>\n",
       "      <th></th>\n",
       "      <th></th>\n",
       "      <th></th>\n",
       "      <th></th>\n",
       "      <th></th>\n",
       "      <th></th>\n",
       "      <th></th>\n",
       "      <th></th>\n",
       "      <th></th>\n",
       "      <th></th>\n",
       "      <th></th>\n",
       "    </tr>\n",
       "  </thead>\n",
       "  <tbody>\n",
       "    <tr>\n",
       "      <th>2014-02-20</th>\n",
       "      <td>9774.000000000</td>\n",
       "      <td>9837.000000000</td>\n",
       "      <td>9765.000000000</td>\n",
       "      <td>9775.000000000</td>\n",
       "      <td>2.000000000</td>\n",
       "      <td>9775.000000000</td>\n",
       "      <td>160202.000000000</td>\n",
       "      <td>198280.000000000</td>\n",
       "      <td>0.020464545</td>\n",
       "      <td>-0.020460358</td>\n",
       "      <td>-0.020460358</td>\n",
       "    </tr>\n",
       "    <tr>\n",
       "      <th>2014-02-21</th>\n",
       "      <td>9772.000000000</td>\n",
       "      <td>9776.000000000</td>\n",
       "      <td>9725.000000000</td>\n",
       "      <td>9758.000000000</td>\n",
       "      <td>20.000000000</td>\n",
       "      <td>9755.000000000</td>\n",
       "      <td>103091.000000000</td>\n",
       "      <td>202990.000000000</td>\n",
       "      <td>-0.204603581</td>\n",
       "      <td>0.020464545</td>\n",
       "      <td>0.020464545</td>\n",
       "    </tr>\n",
       "    <tr>\n",
       "      <th>2014-02-24</th>\n",
       "      <td>9752.000000000</td>\n",
       "      <td>9789.000000000</td>\n",
       "      <td>9740.000000000</td>\n",
       "      <td>9757.000000000</td>\n",
       "      <td>2.000000000</td>\n",
       "      <td>9757.000000000</td>\n",
       "      <td>90654.000000000</td>\n",
       "      <td>203114.000000000</td>\n",
       "      <td>0.020502307</td>\n",
       "      <td>-0.204603581</td>\n",
       "      <td>-0.204603581</td>\n",
       "    </tr>\n",
       "    <tr>\n",
       "      <th>2014-02-25</th>\n",
       "      <td>9760.000000000</td>\n",
       "      <td>9808.000000000</td>\n",
       "      <td>9744.000000000</td>\n",
       "      <td>9789.000000000</td>\n",
       "      <td>32.000000000</td>\n",
       "      <td>9789.000000000</td>\n",
       "      <td>105498.000000000</td>\n",
       "      <td>201486.000000000</td>\n",
       "      <td>0.327969663</td>\n",
       "      <td>0.020502307</td>\n",
       "      <td>0.020502307</td>\n",
       "    </tr>\n",
       "    <tr>\n",
       "      <th>2014-02-26</th>\n",
       "      <td>9784.000000000</td>\n",
       "      <td>9795.000000000</td>\n",
       "      <td>9746.000000000</td>\n",
       "      <td>9760.000000000</td>\n",
       "      <td>29.000000000</td>\n",
       "      <td>9760.000000000</td>\n",
       "      <td>118559.000000000</td>\n",
       "      <td>200105.000000000</td>\n",
       "      <td>-0.296250894</td>\n",
       "      <td>0.327969663</td>\n",
       "      <td>0.327969663</td>\n",
       "    </tr>\n",
       "  </tbody>\n",
       "</table>\n",
       "</div>"
      ],
      "text/plain": [
       "                     Open           High            Low           Last  \\\n",
       "Date                                                                     \n",
       "2014-02-20 9774.000000000 9837.000000000 9765.000000000 9775.000000000   \n",
       "2014-02-21 9772.000000000 9776.000000000 9725.000000000 9758.000000000   \n",
       "2014-02-24 9752.000000000 9789.000000000 9740.000000000 9757.000000000   \n",
       "2014-02-25 9760.000000000 9808.000000000 9744.000000000 9789.000000000   \n",
       "2014-02-26 9784.000000000 9795.000000000 9746.000000000 9760.000000000   \n",
       "\n",
       "                 Change         Settle           Volume  \\\n",
       "Date                                                      \n",
       "2014-02-20  2.000000000 9775.000000000 160202.000000000   \n",
       "2014-02-21 20.000000000 9755.000000000 103091.000000000   \n",
       "2014-02-24  2.000000000 9757.000000000  90654.000000000   \n",
       "2014-02-25 32.000000000 9789.000000000 105498.000000000   \n",
       "2014-02-26 29.000000000 9760.000000000 118559.000000000   \n",
       "\n",
       "            Previous Day Open Interest  Futures_Return  Lagged Return  \\\n",
       "Date                                                                    \n",
       "2014-02-20            198280.000000000     0.020464545   -0.020460358   \n",
       "2014-02-21            202990.000000000    -0.204603581    0.020464545   \n",
       "2014-02-24            203114.000000000     0.020502307   -0.204603581   \n",
       "2014-02-25            201486.000000000     0.327969663    0.020502307   \n",
       "2014-02-26            200105.000000000    -0.296250894    0.327969663   \n",
       "\n",
       "            Lagged_Return  \n",
       "Date                       \n",
       "2014-02-20   -0.020460358  \n",
       "2014-02-21    0.020464545  \n",
       "2014-02-24   -0.204603581  \n",
       "2014-02-25    0.020502307  \n",
       "2014-02-26    0.327969663  "
      ]
     },
     "execution_count": 213,
     "metadata": {},
     "output_type": "execute_result"
    }
   ],
   "source": [
    "fut.head()"
   ]
  },
  {
   "cell_type": "code",
   "execution_count": 214,
   "metadata": {},
   "outputs": [
    {
     "name": "stdout",
     "output_type": "stream",
     "text": [
      "Training set covers from  2015-01-02 00:00:00  to  2017-12-29 00:00:00\n"
     ]
    },
    {
     "data": {
      "text/html": [
       "<div>\n",
       "<style scoped>\n",
       "    .dataframe tbody tr th:only-of-type {\n",
       "        vertical-align: middle;\n",
       "    }\n",
       "\n",
       "    .dataframe tbody tr th {\n",
       "        vertical-align: top;\n",
       "    }\n",
       "\n",
       "    .dataframe thead th {\n",
       "        text-align: right;\n",
       "    }\n",
       "</style>\n",
       "<table border=\"1\" class=\"dataframe\">\n",
       "  <thead>\n",
       "    <tr style=\"text-align: right;\">\n",
       "      <th></th>\n",
       "      <th>Open</th>\n",
       "      <th>High</th>\n",
       "      <th>Low</th>\n",
       "      <th>Last</th>\n",
       "      <th>Change</th>\n",
       "      <th>Settle</th>\n",
       "      <th>Volume</th>\n",
       "      <th>Previous Day Open Interest</th>\n",
       "      <th>Futures_Return</th>\n",
       "      <th>Lagged Return</th>\n",
       "      <th>Lagged_Return</th>\n",
       "    </tr>\n",
       "    <tr>\n",
       "      <th>Date</th>\n",
       "      <th></th>\n",
       "      <th></th>\n",
       "      <th></th>\n",
       "      <th></th>\n",
       "      <th></th>\n",
       "      <th></th>\n",
       "      <th></th>\n",
       "      <th></th>\n",
       "      <th></th>\n",
       "      <th></th>\n",
       "      <th></th>\n",
       "    </tr>\n",
       "  </thead>\n",
       "  <tbody>\n",
       "    <tr>\n",
       "      <th>2015-01-02</th>\n",
       "      <td>8352.000000000</td>\n",
       "      <td>8353.000000000</td>\n",
       "      <td>8286.000000000</td>\n",
       "      <td>8310.000000000</td>\n",
       "      <td>34.000000000</td>\n",
       "      <td>8315.000000000</td>\n",
       "      <td>101438.000000000</td>\n",
       "      <td>222022.000000000</td>\n",
       "      <td>-0.407234399</td>\n",
       "      <td>-0.262812089</td>\n",
       "      <td>-0.262812089</td>\n",
       "    </tr>\n",
       "    <tr>\n",
       "      <th>2015-01-05</th>\n",
       "      <td>8305.000000000</td>\n",
       "      <td>8382.000000000</td>\n",
       "      <td>8293.000000000</td>\n",
       "      <td>8371.000000000</td>\n",
       "      <td>56.000000000</td>\n",
       "      <td>8371.000000000</td>\n",
       "      <td>165487.000000000</td>\n",
       "      <td>226085.000000000</td>\n",
       "      <td>0.673481660</td>\n",
       "      <td>-0.407234399</td>\n",
       "      <td>-0.407234399</td>\n",
       "    </tr>\n",
       "  </tbody>\n",
       "</table>\n",
       "</div>"
      ],
      "text/plain": [
       "                     Open           High            Low           Last  \\\n",
       "Date                                                                     \n",
       "2015-01-02 8352.000000000 8353.000000000 8286.000000000 8310.000000000   \n",
       "2015-01-05 8305.000000000 8382.000000000 8293.000000000 8371.000000000   \n",
       "\n",
       "                 Change         Settle           Volume  \\\n",
       "Date                                                      \n",
       "2015-01-02 34.000000000 8315.000000000 101438.000000000   \n",
       "2015-01-05 56.000000000 8371.000000000 165487.000000000   \n",
       "\n",
       "            Previous Day Open Interest  Futures_Return  Lagged Return  \\\n",
       "Date                                                                    \n",
       "2015-01-02            222022.000000000    -0.407234399   -0.262812089   \n",
       "2015-01-05            226085.000000000     0.673481660   -0.407234399   \n",
       "\n",
       "            Lagged_Return  \n",
       "Date                       \n",
       "2015-01-02   -0.262812089  \n",
       "2015-01-05   -0.407234399  "
      ]
     },
     "execution_count": 214,
     "metadata": {},
     "output_type": "execute_result"
    }
   ],
   "source": [
    "# Using datetime index slicing, create a \"training\" data dataframe using data from just 2015-01-01 to 2017-12-31\n",
    "train = fut.loc['2015-01-01':'2017-12-31']\n",
    "print(\"Training set covers from \", train.index.min(), \" to \", train.index.max())\n",
    "train.head(2)"
   ]
  },
  {
   "cell_type": "code",
   "execution_count": 215,
   "metadata": {},
   "outputs": [
    {
     "name": "stdout",
     "output_type": "stream",
     "text": [
      "Test set covers from  2018-01-02 00:00:00  to  2019-10-09 00:00:00\n"
     ]
    },
    {
     "data": {
      "text/html": [
       "<div>\n",
       "<style scoped>\n",
       "    .dataframe tbody tr th:only-of-type {\n",
       "        vertical-align: middle;\n",
       "    }\n",
       "\n",
       "    .dataframe tbody tr th {\n",
       "        vertical-align: top;\n",
       "    }\n",
       "\n",
       "    .dataframe thead th {\n",
       "        text-align: right;\n",
       "    }\n",
       "</style>\n",
       "<table border=\"1\" class=\"dataframe\">\n",
       "  <thead>\n",
       "    <tr style=\"text-align: right;\">\n",
       "      <th></th>\n",
       "      <th>Open</th>\n",
       "      <th>High</th>\n",
       "      <th>Low</th>\n",
       "      <th>Last</th>\n",
       "      <th>Change</th>\n",
       "      <th>Settle</th>\n",
       "      <th>Volume</th>\n",
       "      <th>Previous Day Open Interest</th>\n",
       "      <th>Futures_Return</th>\n",
       "      <th>Lagged Return</th>\n",
       "      <th>Lagged_Return</th>\n",
       "    </tr>\n",
       "    <tr>\n",
       "      <th>Date</th>\n",
       "      <th></th>\n",
       "      <th></th>\n",
       "      <th></th>\n",
       "      <th></th>\n",
       "      <th></th>\n",
       "      <th></th>\n",
       "      <th></th>\n",
       "      <th></th>\n",
       "      <th></th>\n",
       "      <th></th>\n",
       "      <th></th>\n",
       "    </tr>\n",
       "  </thead>\n",
       "  <tbody>\n",
       "    <tr>\n",
       "      <th>2018-01-02</th>\n",
       "      <td>8909.500000000</td>\n",
       "      <td>8957.500000000</td>\n",
       "      <td>8898.500000000</td>\n",
       "      <td>8938.000000000</td>\n",
       "      <td>26.500000000</td>\n",
       "      <td>8940.500000000</td>\n",
       "      <td>96714.000000000</td>\n",
       "      <td>227884.000000000</td>\n",
       "      <td>0.297285169</td>\n",
       "      <td>0.224870699</td>\n",
       "      <td>0.224870699</td>\n",
       "    </tr>\n",
       "    <tr>\n",
       "      <th>2018-01-03</th>\n",
       "      <td>8943.000000000</td>\n",
       "      <td>8947.500000000</td>\n",
       "      <td>8913.000000000</td>\n",
       "      <td>8921.000000000</td>\n",
       "      <td>21.500000000</td>\n",
       "      <td>8919.000000000</td>\n",
       "      <td>93498.000000000</td>\n",
       "      <td>226582.000000000</td>\n",
       "      <td>-0.240478720</td>\n",
       "      <td>0.297285169</td>\n",
       "      <td>0.297285169</td>\n",
       "    </tr>\n",
       "  </tbody>\n",
       "</table>\n",
       "</div>"
      ],
      "text/plain": [
       "                     Open           High            Low           Last  \\\n",
       "Date                                                                     \n",
       "2018-01-02 8909.500000000 8957.500000000 8898.500000000 8938.000000000   \n",
       "2018-01-03 8943.000000000 8947.500000000 8913.000000000 8921.000000000   \n",
       "\n",
       "                 Change         Settle          Volume  \\\n",
       "Date                                                     \n",
       "2018-01-02 26.500000000 8940.500000000 96714.000000000   \n",
       "2018-01-03 21.500000000 8919.000000000 93498.000000000   \n",
       "\n",
       "            Previous Day Open Interest  Futures_Return  Lagged Return  \\\n",
       "Date                                                                    \n",
       "2018-01-02            227884.000000000     0.297285169    0.224870699   \n",
       "2018-01-03            226582.000000000    -0.240478720    0.297285169   \n",
       "\n",
       "            Lagged_Return  \n",
       "Date                       \n",
       "2018-01-02    0.224870699  \n",
       "2018-01-03    0.297285169  "
      ]
     },
     "execution_count": 215,
     "metadata": {},
     "output_type": "execute_result"
    }
   ],
   "source": [
    "# Using datetime index slicing, create a \"test\" data dataframe using data from 2018-01-01 through the end of the data\n",
    "test = fut.loc['2018-01-01':]\n",
    "print(\"Test set covers from \", test.index.min(), \" to \", test.index.max())\n",
    "test.head(2)"
   ]
  },
  {
   "cell_type": "markdown",
   "metadata": {},
   "source": [
    "  * Then use the model developed on a test set using data from 2018 onward."
   ]
  },
  {
   "cell_type": "code",
   "execution_count": 216,
   "metadata": {},
   "outputs": [],
   "source": [
    "# Create four dataframes:\n",
    "# X_train (training set using just the independent variables), X_test (test set of of just the independent variables)\n",
    "# Y_train (training set using just the \"y\" variable, i.e., \"Futures Return\"), Y_test (test set of just the \"y\" variable):\n",
    "X_train = train['Lagged_Return'].to_frame()\n",
    "y_train = train['Futures_Return']\n",
    "X_test = test['Lagged_Return'].to_frame()\n",
    "y_test = test['Futures_Return']"
   ]
  },
  {
   "cell_type": "code",
   "execution_count": 217,
   "metadata": {},
   "outputs": [],
   "source": [
    "# Fit a SKLearn linear regression using  just the training set (X_train, Y_train):\n",
    "from sklearn.metrics import mean_squared_error, r2_score\n",
    "\n",
    "model = LinearRegression()\n",
    "model.fit(X_train,y_train)\n",
    "\n",
    "# And make a prediction of \"y\" values for just the test dataset\n",
    "predictions = model.predict(X_test) \n",
    "\n",
    "# Score how that model works using only the test data\n",
    "model.score(X_test,y_test)\n",
    "\n",
    "# Assemble actual y data (Y_test) with predicted y data (from just above) into two columns in a dataframe:\n",
    "Results = y_test.to_frame()\n",
    "Results[\"Predicted Return\"] = predictions\n"
   ]
  },
  {
   "cell_type": "code",
   "execution_count": 218,
   "metadata": {},
   "outputs": [
    {
     "data": {
      "text/html": [
       "<div>\n",
       "<style scoped>\n",
       "    .dataframe tbody tr th:only-of-type {\n",
       "        vertical-align: middle;\n",
       "    }\n",
       "\n",
       "    .dataframe tbody tr th {\n",
       "        vertical-align: top;\n",
       "    }\n",
       "\n",
       "    .dataframe thead th {\n",
       "        text-align: right;\n",
       "    }\n",
       "</style>\n",
       "<table border=\"1\" class=\"dataframe\">\n",
       "  <thead>\n",
       "    <tr style=\"text-align: right;\">\n",
       "      <th></th>\n",
       "      <th>Futures_Return</th>\n",
       "      <th>Predicted Return</th>\n",
       "    </tr>\n",
       "    <tr>\n",
       "      <th>Date</th>\n",
       "      <th></th>\n",
       "      <th></th>\n",
       "    </tr>\n",
       "  </thead>\n",
       "  <tbody>\n",
       "    <tr>\n",
       "      <th>2018-01-02</th>\n",
       "      <td>0.297285169</td>\n",
       "      <td>0.004644804</td>\n",
       "    </tr>\n",
       "    <tr>\n",
       "      <th>2018-01-03</th>\n",
       "      <td>-0.240478720</td>\n",
       "      <td>0.002612746</td>\n",
       "    </tr>\n",
       "    <tr>\n",
       "      <th>2018-01-04</th>\n",
       "      <td>-0.213028366</td>\n",
       "      <td>0.017703208</td>\n",
       "    </tr>\n",
       "    <tr>\n",
       "      <th>2018-01-05</th>\n",
       "      <td>-0.353932584</td>\n",
       "      <td>0.016932910</td>\n",
       "    </tr>\n",
       "    <tr>\n",
       "      <th>2018-01-08</th>\n",
       "      <td>0.062017252</td>\n",
       "      <td>0.020886894</td>\n",
       "    </tr>\n",
       "  </tbody>\n",
       "</table>\n",
       "</div>"
      ],
      "text/plain": [
       "            Futures_Return  Predicted Return\n",
       "Date                                        \n",
       "2018-01-02     0.297285169       0.004644804\n",
       "2018-01-03    -0.240478720       0.002612746\n",
       "2018-01-04    -0.213028366       0.017703208\n",
       "2018-01-05    -0.353932584       0.016932910\n",
       "2018-01-08     0.062017252       0.020886894"
      ]
     },
     "execution_count": 218,
     "metadata": {},
     "output_type": "execute_result"
    }
   ],
   "source": [
    "Results.head()"
   ]
  },
  {
   "cell_type": "markdown",
   "metadata": {},
   "source": [
    "\n",
    "  * Compare the RMSE from the model using the test sample to the RMSE when using the full-sample. Are the results surprising?"
   ]
  },
  {
   "cell_type": "code",
   "execution_count": 219,
   "metadata": {},
   "outputs": [
    {
     "name": "stdout",
     "output_type": "stream",
     "text": [
      "Out-of-Sample Mean Squared Error (MSE): 0.17190914572484814\n",
      "Out-of-Sample Root Mean Squared Error (RMSE): 0.41461927804293924\n"
     ]
    }
   ],
   "source": [
    "# Calculate the mean_squared_error (MSE) on actual versus predicted test \"y\" \n",
    "# (Hint: use the dataframe above)\n",
    "mse = mean_squared_error(Results['Futures_Return'],Results['Predicted Return'])\n",
    "\n",
    "# Using that mean-squared-error, calculate the root-mean-squared error (RMSE):\n",
    "one_shot_rmse = np.sqrt(mse)\n",
    "print(f\"Out-of-Sample Mean Squared Error (MSE): {mse}\")\n",
    "print(f\"Out-of-Sample Root Mean Squared Error (RMSE): {one_shot_rmse}\")"
   ]
  },
  {
   "cell_type": "code",
   "execution_count": 220,
   "metadata": {},
   "outputs": [
    {
     "name": "stdout",
     "output_type": "stream",
     "text": [
      "In-Sample Mean Squared Error (MSE): 0.3916248010934168\n",
      "In-sample Root Mean Squared Error (RMSE): 0.6257993297323167\n"
     ]
    }
   ],
   "source": [
    "# Construct a dataframe using just the \"y\" training data:\n",
    "in_sample_results = y_train.to_frame()\n",
    "\n",
    "# Add a column of \"in-sample\" predictions to that dataframe:  \n",
    "in_sample_results[\"In-sample Predictions\"] = model.predict(X_train) \n",
    "\n",
    "# # Calculate in-sample mean_squared_error (for comparison to out-of-sample)\n",
    "in_sample_mse =  mean_squared_error(in_sample_results['Futures_Return'],\n",
    "                                    in_sample_results['In-sample Predictions'])\n",
    "\n",
    "# # Calculate in-sample root mean_squared_error (for comparison to out-of-sample)\n",
    "in_sample_rmse = np.sqrt(in_sample_mse) \n",
    "print(f\"In-Sample Mean Squared Error (MSE): {in_sample_mse}\")\n",
    "print(f\"In-sample Root Mean Squared Error (RMSE): {in_sample_rmse}\")"
   ]
  },
  {
   "cell_type": "code",
   "execution_count": 221,
   "metadata": {},
   "outputs": [
    {
     "data": {
      "text/plain": [
       "array([<matplotlib.axes._subplots.AxesSubplot object at 0x000002350B144048>,\n",
       "       <matplotlib.axes._subplots.AxesSubplot object at 0x000002350B19B630>],\n",
       "      dtype=object)"
      ]
     },
     "execution_count": 221,
     "metadata": {},
     "output_type": "execute_result"
    },
    {
     "data": {
      "image/png": "[encoded data removed]",
      "text/plain": [
       "<Figure size 432x288 with 2 Axes>"
      ]
     },
     "metadata": {
      "needs_background": "light"
     },
     "output_type": "display_data"
    }
   ],
   "source": [
    "in_sample_results.plot(subplots=True)"
   ]
  },
  {
   "cell_type": "markdown",
   "metadata": {},
   "source": [
    "### Out-of-Sample Predictions: The Rolling Out-of-Sample Approach\n",
    "\n",
    "Let's take the model above (i.e., SKLearn predicting futures returns with lagged futures returns), but apply it using a rolling, out of sample approach. This method, which is specific to time-series predictions, will be a more realistic and more rigorous approximation of how the model would perform in real life.\n",
    "\n",
    "Specifically, start at the beginning of the dataset and \"roll forward\" one week at a time, using a 26-week (6 month) rolling training window."
   ]
  },
  {
   "cell_type": "code",
   "execution_count": 222,
   "metadata": {},
   "outputs": [],
   "source": [
    "# Main Idea: Each week, re-estimate the model, then trade on it the following week. \n",
    "# Continue this \"out of sample\" approach throughout the dataset."
   ]
  },
  {
   "cell_type": "code",
   "execution_count": 223,
   "metadata": {},
   "outputs": [],
   "source": [
    "# Construct an empty placeholder dataframe, with a column named \"Out-of-Sample Predictions\"\n",
    "# (Each iteration of the loop, we\"ll append that week\"s predictions to this DataFrame)\n",
    "all_predictions = pd.DataFrame(columns=[\"Out-of-Sample Predictions\"])\n",
    "# Construct an empty placeholder dataframe, with a column named \"Actual Returns\"\n",
    "# (Each iteration of the loop, we\"ll append that week\"s predictions to this DataFrame)\n",
    "all_actuals = pd.DataFrame(columns=[\"Actual Returns\"])\n",
    "\n",
    "#split the index into weekly periods\n",
    "# construct a list of all pandas weekly periods that are in the dataset:\n",
    "weeks = fut.index.to_period(\"w\").unique()\n",
    "\n",
    "# Specify a training window (26 weeks (6 months) of data)\n",
    "training_window = 26  \n",
    "timeframe  = len(weeks)-training_window -1\n",
    "\n",
    "# Write a for loop that iterates from 0 to the number of weeks (minus the training window) in the dataset:\n",
    "# We have to subtract the length of the training window because\n",
    "# Going beyond this goes beyond the length of our dataset    \n",
    "for i in range(0, timeframe):\n",
    "    \n",
    "# Create a string variable 'beginning of training window'\n",
    "    start_training_period = weeks[i].start_time.strftime(format = '%Y-%m-%d') \n",
    "    \n",
    "# Create a string variable 'end of training window'\"\n",
    "    end_training_period = weeks[training_window+i].end_time.strftime(format = '%Y-%m-%d') \n",
    "    \n",
    "# Create a datetime object that marks the week of test-window data:\n",
    "    test_week = weeks[training_window + i + 1] \n",
    "    \n",
    "# Create a string variable from the beginning of that time object with format=\"%Y-%m-%d\"\n",
    "    start_test_week = test_week.start_time.strftime(format='%Y-%m-%d') \n",
    "    \n",
    "# Create a string variable from the end of that time object with format=\"%Y-%m-%d\"    \n",
    "    end_test_week = test_week.end_time.strftime(format='%Y-%m-%d')\n",
    "    \n",
    "# Create a dataframe that includes only data during the training window\n",
    "# (Use datetime slicing and the two start and end string dates constructed above):\n",
    "    train =  fut[start_training_period:end_training_period]   \n",
    "    test =  fut[start_test_week:end_test_week]\n",
    "    \n",
    "# Create four dataframes:\n",
    "# X_train (training set using just the independent variables), X_test (test set of of just the independent variables)\n",
    "# Y_train (training set using just the \"y\" variable, i.e., \"Futures Return\"), Y_test (test set of just the \"y\" variable):\n",
    "    X_train = train[\"Lagged_Return\"].to_frame()\n",
    "    y_train = train[\"Futures_Return\"]\n",
    "    X_test = test[\"Lagged_Return\"].to_frame()\n",
    "    y_test = test[\"Futures_Return\"]\n",
    "\n",
    "# Fit a linear regression to the two training dataframes\n",
    "    \n",
    "    model = LinearRegression()\n",
    "    model.fit(X_train,y_train)\n",
    "    \n",
    "    \n",
    "# Use the model to construct predictions on the X test dataframe,\n",
    "# and save them as a temporary pandas DataFrame \n",
    "    predictions = model.predict(X_test) \n",
    "    predictions = pd.DataFrame(predictions, index=X_test.index, columns=[\"Out-of-Sample Predictions\"])\n",
    "# Create a temporary DataFrame of the actual \"y\"s in the test dataframe, with column name=\"Actual Returns\": \n",
    "    actuals = pd.DataFrame(y_test, index=y_test.index)\n",
    "    actuals.columns = [\"Actual Returns\"]  \n",
    "# Append these two dataframes (predictions and actuals) to the two master DataFrames built outside the loop\n",
    "    all_predictions = all_predictions.append(predictions)\n",
    "    all_actuals = all_actuals.append(actuals)   \n",
    "    # Once the loop is done, concatenate (combine) the two dataframes to a final \"Results\" dataframe:    \n",
    "    Results =  pd.concat([all_actuals, all_predictions], axis=1) \n"
   ]
  },
  {
   "cell_type": "code",
   "execution_count": 224,
   "metadata": {},
   "outputs": [
    {
     "data": {
      "text/html": [
       "<div>\n",
       "<style scoped>\n",
       "    .dataframe tbody tr th:only-of-type {\n",
       "        vertical-align: middle;\n",
       "    }\n",
       "\n",
       "    .dataframe tbody tr th {\n",
       "        vertical-align: top;\n",
       "    }\n",
       "\n",
       "    .dataframe thead th {\n",
       "        text-align: right;\n",
       "    }\n",
       "</style>\n",
       "<table border=\"1\" class=\"dataframe\">\n",
       "  <thead>\n",
       "    <tr style=\"text-align: right;\">\n",
       "      <th></th>\n",
       "      <th>Actual Returns</th>\n",
       "      <th>Out-of-Sample Predictions</th>\n",
       "    </tr>\n",
       "  </thead>\n",
       "  <tbody>\n",
       "    <tr>\n",
       "      <th>2014-08-25</th>\n",
       "      <td>-0.051958849</td>\n",
       "      <td>-0.027460015</td>\n",
       "    </tr>\n",
       "    <tr>\n",
       "      <th>2014-08-26</th>\n",
       "      <td>-0.103971720</td>\n",
       "      <td>-0.017047072</td>\n",
       "    </tr>\n",
       "    <tr>\n",
       "      <th>2014-08-27</th>\n",
       "      <td>0.208159867</td>\n",
       "      <td>-0.023576242</td>\n",
       "    </tr>\n",
       "    <tr>\n",
       "      <th>2014-08-28</th>\n",
       "      <td>0.197341088</td>\n",
       "      <td>0.015605599</td>\n",
       "    </tr>\n",
       "    <tr>\n",
       "      <th>2014-08-29</th>\n",
       "      <td>-0.425002591</td>\n",
       "      <td>0.014247519</td>\n",
       "    </tr>\n",
       "  </tbody>\n",
       "</table>\n",
       "</div>"
      ],
      "text/plain": [
       "            Actual Returns  Out-of-Sample Predictions\n",
       "2014-08-25    -0.051958849               -0.027460015\n",
       "2014-08-26    -0.103971720               -0.017047072\n",
       "2014-08-27     0.208159867               -0.023576242\n",
       "2014-08-28     0.197341088                0.015605599\n",
       "2014-08-29    -0.425002591                0.014247519"
      ]
     },
     "execution_count": 224,
     "metadata": {},
     "output_type": "execute_result"
    }
   ],
   "source": [
    "Results.head()"
   ]
  },
  {
   "cell_type": "code",
   "execution_count": 225,
   "metadata": {},
   "outputs": [
    {
     "data": {
      "image/png": "[encoded data removed]",
      "text/plain": [
       "<Figure size 1008x720 with 1 Axes>"
      ]
     },
     "metadata": {
      "needs_background": "light"
     },
     "output_type": "display_data"
    }
   ],
   "source": [
    "# Plot the results:\n",
    "ax = Results.plot(title='Actual Returns vs. Out of Sample Predictions',fontsize =14,figsize=(14,10))\n",
    "ax.set_ylabel('Returns', fontsize=14)\n",
    "ax.set_xlabel('Date', fontsize=14)\n",
    "plt.show()"
   ]
  },
  {
   "cell_type": "markdown",
   "metadata": {},
   "source": [
    "  * Evaluate the model RMSE.\n",
    "      * Which has the better RMSE--this more robust method, or the single (\"one-shot\") training and test split just above?"
   ]
  },
  {
   "cell_type": "code",
   "execution_count": 226,
   "metadata": {},
   "outputs": [
    {
     "name": "stdout",
     "output_type": "stream",
     "text": [
      "Out of Sample Root Mean Squared Error (RMSE): 0.5670517836444188\n",
      "Out of Sample Mean Squared Error (MSE): 0.32154772533431675\n"
     ]
    }
   ],
   "source": [
    "# Calculate the mean_squared_error on the Results DataFrame:\n",
    "# (This compares the average (squared) difference between actual and model-predicted returns)\n",
    "rolling_mse = mean_squared_error(Results['Actual Returns'],Results['Out-of-Sample Predictions'])\n",
    "# Then use that to calculate the Root-Mean-Squared Error (RMSE):\n",
    "rolling_rmse = np.sqrt(rolling_mse)\n",
    "print(f\"Out of Sample Root Mean Squared Error (RMSE): {rolling_rmse}\")\n",
    "print(f\"Out of Sample Mean Squared Error (MSE): {rolling_mse}\")"
   ]
  },
  {
   "cell_type": "code",
   "execution_count": 227,
   "metadata": {},
   "outputs": [],
   "source": [
    "# Compare the RMSE from the training-testing single split versus the rolling out-of-sample approach we just did:\n",
    "# YOUR CODE HERE "
   ]
  },
  {
   "cell_type": "markdown",
   "metadata": {},
   "source": [
    "Challenge: Can you calculate the out-of-sample R2? Based on this, should we bet money on this model?"
   ]
  },
  {
   "cell_type": "code",
   "execution_count": null,
   "metadata": {},
   "outputs": [],
   "source": [
    "# YOUR CODE HERE "
   ]
  }
 ],
 "metadata": {
  "file_extension": ".py",
  "kernelspec": {
   "display_name": "Python 3",
   "language": "python",
   "name": "python3"
  },
  "language_info": {
   "codemirror_mode": {
    "name": "ipython",
    "version": 3
   },
   "file_extension": ".py",
   "mimetype": "text/x-python",
   "name": "python",
   "nbconvert_exporter": "python",
   "pygments_lexer": "ipython3",
   "version": "3.7.3"
  },
  "mimetype": "text/x-python",
  "name": "python",
  "npconvert_exporter": "python",
  "pygments_lexer": "ipython3",
  "version": 3
 },
 "nbformat": 4,
 "nbformat_minor": 2
}
